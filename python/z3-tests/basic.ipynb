{
 "cells": [
  {
   "cell_type": "code",
   "execution_count": 1,
   "metadata": {},
   "outputs": [],
   "source": [
    "from z3 import *"
   ]
  },
  {
   "cell_type": "code",
   "execution_count": 2,
   "metadata": {},
   "outputs": [
    {
     "name": "stdout",
     "output_type": "stream",
     "text": [
      "[x = 5]\n"
     ]
    }
   ],
   "source": [
    "x = Int(\"x\")\n",
    "\n",
    "solve(x+2 == 7)"
   ]
  },
  {
   "cell_type": "code",
   "execution_count": 3,
   "metadata": {},
   "outputs": [
    {
     "name": "stdout",
     "output_type": "stream",
     "text": [
      "[y = 0, x = 10]\n"
     ]
    }
   ],
   "source": [
    "x = Int(\"x\")\n",
    "y = Int(\"y\")\n",
    "\n",
    "solve(\n",
    "    x > 3,\n",
    "    y < 7,\n",
    "    x + y == 10\n",
    ")"
   ]
  },
  {
   "cell_type": "code",
   "execution_count": 4,
   "metadata": {},
   "outputs": [
    {
     "name": "stdout",
     "output_type": "stream",
     "text": [
      "[A = False, B = True, C = True]\n"
     ]
    }
   ],
   "source": [
    "A = Bool(\"A\")\n",
    "B = Bool(\"B\")\n",
    "C = Bool(\"C\")\n",
    "\n",
    "solve(\n",
    "    Or(A, B),\n",
    "    And(B, C),\n",
    "    Not(A)\n",
    ")"
   ]
  },
  {
   "cell_type": "code",
   "execution_count": 6,
   "metadata": {},
   "outputs": [
    {
     "name": "stdout",
     "output_type": "stream",
     "text": [
      "[x = 10]\n",
      "[x = 15]\n",
      "[x = 20]\n",
      "[x = 25]\n",
      "[x = 30]\n",
      "[x = 35]\n",
      "[x = 40]\n",
      "[x = 45]\n",
      "[x = 50]\n"
     ]
    }
   ],
   "source": [
    "x = Int(\"x\")\n",
    "s = Solver()\n",
    "s.add((\n",
    "    10 <= x, x <= 50,\n",
    "    x%5 == 0\n",
    "))\n",
    "while s.check() == sat:\n",
    "    print(s.model())\n",
    "    s.add(x != s.model()[x])"
   ]
  }
 ],
 "metadata": {
  "kernelspec": {
   "display_name": "py11",
   "language": "python",
   "name": "python3"
  },
  "language_info": {
   "codemirror_mode": {
    "name": "ipython",
    "version": 3
   },
   "file_extension": ".py",
   "mimetype": "text/x-python",
   "name": "python",
   "nbconvert_exporter": "python",
   "pygments_lexer": "ipython3",
   "version": "3.11.7"
  }
 },
 "nbformat": 4,
 "nbformat_minor": 2
}
