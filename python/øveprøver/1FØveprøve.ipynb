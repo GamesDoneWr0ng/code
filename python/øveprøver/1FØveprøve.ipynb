{
 "cells": [
  {
   "cell_type": "markdown",
   "metadata": {},
   "source": [
    "<h1>Oppgave 1</h1>\n",
    "<p>Fullfør koden nedenfor slik at funksjonen legger sammen tallene og skrive ut resultatet<br>\n",
    "sammen med en passende tekst</p>\n",
    "<b>\n",
    "def summer(tall1, tall2):<br>\n",
    "&emsp;# Skriv kode her\n",
    "\n",
    "summer(4,5)</b>"
   ]
  },
  {
   "cell_type": "code",
   "execution_count": 1,
   "metadata": {},
   "outputs": [
    {
     "name": "stdout",
     "output_type": "stream",
     "text": [
      "Summen av 4 og 5 er: 9\n"
     ]
    }
   ],
   "source": [
    "def summen(tall1, tall2): # definerer funksjonen summen\n",
    "    print(f\"Summen av {tall1} og {tall2} er: {tall1 + tall2}\") # legger sammen tallene og printer resultat\n",
    "\n",
    "summen(4, 5) # kaller funksjonen summen med argumentene 4 og 5"
   ]
  },
  {
   "cell_type": "markdown",
   "metadata": {},
   "source": [
    "<h1>Oppgave 2</h1>\n",
    "<p>Hva blir resultater av programmet nedenfor? Hvorfor får vi ikke skrevet ut «hei» to ganger?</p>\n",
    "<b>ord = \"funksjon\"<br>\n",
    "    <br>\n",
    "def minFunksjon(tekst):<br>\n",
    "&emsp;ord = tekst<br>\n",
    "&emsp;return ord<br>\n",
    "<br>\n",
    "print(minFunksjon(\"hei\"))<br>\n",
    "print(ord)<br></b>"
   ]
  },
  {
   "cell_type": "code",
   "execution_count": 5,
   "metadata": {},
   "outputs": [
    {
     "name": "stdout",
     "output_type": "stream",
     "text": [
      "hei\n",
      "funksjon\n"
     ]
    }
   ],
   "source": [
    "ord = \"funksjon\" # lager variabel ord = \"funksjon\"\n",
    "\n",
    "def minFunksjon(tekst): # definerer funksjonen minFunksjon med parameter tekst\n",
    "    ord = tekst # lager ny variabel ord i minFunksjon sitt scope lik tekst, derfor vil ikke ord i global scope påvirkes\n",
    "    return ord # returnerer ord\n",
    "\n",
    "print(minFunksjon(\"hei\")) # kaller på minFunksjon med parameter \"hei\" vi får tilbake \"hei\" og printer\n",
    "print(ord) # ord i global scope er fortsatt \"funksjon\" så vi printer \"funksjon\" og ikke \"hei\""
   ]
  },
  {
   "cell_type": "markdown",
   "metadata": {},
   "source": [
    "<h1>Oppgave 3</h1>\n",
    "<p>Fullfør koden nedenfor slik at funksjonen beregner og retunerer arealet av trekanten.</p>\n",
    "<b>\n",
    "    def arealTrekant(grunnlinje, hoyde):<br>\n",
    "    &emsp;# Skriv kode her<br>\n",
    "    <br>\n",
    "    print(f\"Arealet av trekanten blir: {arealTrekant(7,3)}.\");<br>\n",
    "</b>\n",
    "\n",
    "Formelen for arealet av en trekant: $$A=\\frac{{\\text{{grunnlinje}}\\times\\text{{hoyde}}}}{2}$$"
   ]
  },
  {
   "cell_type": "code",
   "execution_count": 2,
   "metadata": {},
   "outputs": [
    {
     "name": "stdout",
     "output_type": "stream",
     "text": [
      "Arealet av trekanten blir: 10.5.\n"
     ]
    }
   ],
   "source": [
    "def arealTrekant(grunnlinje, hoyde):\n",
    "    areal = grunnlinje * hoyde / 2\n",
    "    return areal\n",
    "\n",
    "print(f\"Arealet av trekanten blir: {arealTrekant(7,3)}.\")"
   ]
  },
  {
   "cell_type": "markdown",
   "metadata": {},
   "source": [
    "<h1>Oppgave 4</h1>\n",
    "<p>I spillet «Lotto» fra Norsk tipping deltar man ved å velge syv <i>forskjellige</i> tall mellom 1 og 34<br>\n",
    "(1 og 34 er inkludert). Det betyr at en lottokupong kan se slik ut:<br></p>\n",
    "<center>6&emsp;&emsp;&emsp;34&emsp;&emsp;&emsp;12&emsp;&emsp;&emsp;1&emsp;&emsp;&emsp;2&emsp;&emsp;&emsp;23&emsp;&emsp;&emsp;27</center>\n",
    "<p>Hver lørdag trekkes vinnertallene. Da trekkes syv tall pluss ett tilleggstall. Dette var vinnertallene lørdag 08.10.2022: 5 8 9 10 12 23 27<br>\n",
    "Premieoversikten den samme lørdagen, så slik ut:</p>\n",
    "<b>Premier</b>\n",
    "\n",
    "| Antall rette | Vinnere | Premie |\n",
    "| :------------: | :-------:  | :-------:  |\n",
    "| 7 rette | 4 | 7 690 420 kr |\n",
    "| 6 + 1 rette | 38 | 60 745 kr |\n",
    "| 6 rette | 728 | 3 320 kr |\n",
    "| 5 rette | 27 537 | 95 kr |\n",
    "| 4 rette | 369 110 | 45 kr |\n",
    "\n",
    "<p>I denne oppgaven skal du skrive dukumentasjon for funksjonene du lager.<br>\n",
    "<b>a</b>&emsp;Lag en funksjon som trekker vinnertall (altså syv tall pluss ett tilleggstall). Tallene er fra<br>\n",
    "&emsp;&nbsp; 1-34, og ingen tall brukes to ganger.<br>\n",
    "<b>b</b>&emsp;Lag en funksjon som tar inn en lottopong (altså tallene en person har valgt ut) og<br>\n",
    "&emsp;&nbsp; sjekker hvor mange riktige personen har fått (sammenlign med vinnertallene du fant i <b>a)</b>.<br>\n",
    "<b>c</b>&emsp;Regn ut hvor mange mulige kuponger som kan lages. Her holder det å tenke på 7 rette.<br>\n",
    "&emsp;&nbsp;  Hvor sannsynlig er det å få syv rette hvis du bare leverer én lottokupong?</p>"
   ]
  },
  {
   "cell_type": "code",
   "execution_count": 4,
   "metadata": {},
   "outputs": [
    {
     "name": "stdout",
     "output_type": "stream",
     "text": [
      "The winner numbers are: [ 7 15 13 12 17  8 21] + 10\n",
      "You got 1 + 0 correct numbers.\n",
      "You have 5379616 posible combinations.\n"
     ]
    }
   ],
   "source": [
    "import numpy as np # import numpy for random and other mathematical functions\n",
    "\n",
    "def generateNumbers() -> np.ndarray:\n",
    "    \"\"\"\n",
    "    Returns a array of 8 unike integers between 1-34 (inclusive). The last number is the extra number.\n",
    "    \"\"\"\n",
    "    numbers: np.ndarray = np.random.choice(range(1,35), 8, replace=False) # generates the range 1..34 and picks out 8 of them and removes it as a option after picking it\n",
    "    return numbers # returns the numbers\n",
    "\n",
    "def getCupon(winner: np.ndarray) -> int:\n",
    "    \"\"\"\n",
    "    Takes in 7 numbers from the user and compares them to the winner numbers. Returns the amount of correct numbers.\n",
    "    \"\"\"\n",
    "    while True: # get new cupon until user enters valid cupon\n",
    "        try:\n",
    "            cupon: np.ndarray = np.array(input(\"Enter your cupon: \").split(), dtype=int)    # takes in the cupon\n",
    "            if cupon.size == np.unique(cupon) and cupon.size == 7:                           # checks if the cupon is 7 numbers long and has no duplicates\n",
    "                break # breaks out of the loop\n",
    "\n",
    "            print(\"Invalid cupon. Try again.\")          # duplicates in cupon or cupon.size != 7\n",
    "        except:\n",
    "            print(\"Invalid cupon. Try again.\")          # error due to bad user input like text\n",
    "    \n",
    "    correct = np.intersect1d(winner[:-1], cupon).size   # returns the amount of correct numbers\n",
    "    extra = winner[-1] in cupon                         # checks if the extra number is correct\n",
    "    string = f\"{correct} + {1 if extra else 0}\"         # formats the string with the correct amount of correct numbers and extra number\n",
    "    return string                                       # returns the string\n",
    "\n",
    "def posibleCombinations() -> int:\n",
    "    \"\"\"\n",
    "    Returns the amount of posible combinations for the lottery.\\n\n",
    "    This just uses some math to get the amount of posible combinations.\n",
    "    34! / ((34 - 7)! * 7!)\n",
    "    \"\"\"\n",
    "    return np.math.factorial(34) // (np.math.factorial(7) * np.math.factorial(34 - 7)) # return the posible combinations.\n",
    "\n",
    "winner: np.ndarray = generateNumbers()                          # generates the winner numbers\n",
    "print(f\"The winner numbers are: {winner[:-1]} + {winner[-1]}\")  # prints the winner numbers\n",
    "\n",
    "cupon: int = getCupon(winner)               # gets cupon from user and checks it\n",
    "print(f\"You got {cupon} correct numbers.\")  # prints the amount of correct numbers)\n",
    "\n",
    "print(f\"You have {posibleCombinations()} posible combinations.\") # prints the amount of posible combinations"
   ]
  }
 ],
 "metadata": {
  "kernelspec": {
   "display_name": "base",
   "language": "python",
   "name": "python3"
  },
  "language_info": {
   "codemirror_mode": {
    "name": "ipython",
    "version": 3
   },
   "file_extension": ".py",
   "mimetype": "text/x-python",
   "name": "python",
   "nbconvert_exporter": "python",
   "pygments_lexer": "ipython3",
   "version": "3.9.12"
  },
  "orig_nbformat": 4
 },
 "nbformat": 4,
 "nbformat_minor": 2
}
