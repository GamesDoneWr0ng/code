{
 "cells": [
  {
   "cell_type": "markdown",
   "metadata": {},
   "source": [
    "<h1>Oppgave 1</h1>\n",
    "<p>Lag et program som leser inn to tall fra brukeren. Programmet skal skrive ut hvilket tall som\n",
    "er størst og hvilket som er minst. Hvis tallene er like store, skal programmet skrive at tallene\n",
    "er like.</p>"
   ]
  },
  {
   "cell_type": "code",
   "execution_count": 1,
   "metadata": {},
   "outputs": [
    {
     "name": "stdout",
     "output_type": "stream",
     "text": [
      "8.0 is the largest number\n"
     ]
    }
   ],
   "source": [
    "a = float(input(\"Enter a number: \"))\n",
    "b = float(input(\"Enter another number: \"))\n",
    "\n",
    "if a > b:\n",
    "    print(a, \"is the largest number\")\n",
    "elif a < b:\n",
    "    print(b, \"is the largest number\")\n",
    "else:\n",
    "    print(\"Both numbers are equal\")\n"
   ]
  },
  {
   "cell_type": "markdown",
   "metadata": {},
   "source": [
    "<style>\n",
    "th {\n",
    "  padding-top: 5px;\n",
    "  padding-right: 10px;\n",
    "  padding-bottom: 5px;\n",
    "  padding-left: 10px;\n",
    "}\n",
    "</style>\n",
    "\n",
    "<h1>Oppgave 2</h1>\n",
    "<p>Fullfør tabellen nedenfor. Anta at:</p>\n",
    "<p>a = 19</p>\n",
    "<p>b = 85</p>\n",
    "\n",
    "| Kode | Resultat |\n",
    "| :------------: | :-------:  |\n",
    "| print(a < 1) | True |\n",
    "| print(a <= 19) | True |\n",
    "| print(a != b) | True |\n",
    "| print(b == \"85\") | False |\n",
    "| print(a < 19 or b > 90) | False |\n",
    "| print(((a + b) > 100) and b > a) | True |"
   ]
  },
  {
   "cell_type": "markdown",
   "metadata": {},
   "source": [
    "<style>\n",
    "    th {\n",
    "      padding-top: 5px;\n",
    "      padding-right: 10px;\n",
    "      padding-bottom: 5px;\n",
    "      padding-left: 10px;\n",
    "    }\n",
    "    </style>\n",
    "\n",
    "<h1>Oppgave 3</h1>\n",
    "<p>Richters skala er en skala for å karakterisere styrken av jordskjelv. Lag et program der\n",
    "brukeren kan oppgi styrken på et jordskjelv i Richtertall, og som skriver ut en passende\n",
    "beskrivelse av jordskjelvet.\n",
    "<br></p>\n",
    "\n",
    "| Richtertall | Virkning nær episenter |\n",
    "| :------------: | :-------:  |\n",
    "| < 2,0 | Vanligvis ikke følbart |\n",
    "| 2,0-2,9 | Marginalt følbart |\n",
    "| 3,0-3,9 | Merkes av noen |\n",
    "| 4,0-4,9 | Merkes av de fleste |\n",
    "| 5,0-5,9 | Ødeleggende rystelser |\n",
    "| 6,0-6,9 | Ødeleggelser med dødsofre |\n",
    "| 7,0-7,9 | Kraftige skjelv, omfattende skader |\n",
    "| >= 8,0 | Store skjelv, katastrofale skader |"
   ]
  },
  {
   "cell_type": "code",
   "execution_count": 2,
   "metadata": {},
   "outputs": [
    {
     "name": "stdout",
     "output_type": "stream",
     "text": [
      "Ødleggende rystelser\n"
     ]
    }
   ],
   "source": [
    "richertall = float(input(\"Richertall: \"))\n",
    "\n",
    "if richertall < 0:\n",
    "    print(\"Ugyldig tall\")\n",
    "elif richertall < 2.0:\n",
    "    print(\"Vedanligvis ikke følbart\")\n",
    "elif richertall < 3.0:\n",
    "    print(\"Marginalt følbart\")\n",
    "elif richertall < 4.0:\n",
    "    print(\"Merkes av noen\")\n",
    "elif richertall < 5.0:\n",
    "    print(\"Merkes av de fleste\")\n",
    "elif richertall < 6.0:\n",
    "    print(\"Ødleggende rystelser\")\n",
    "elif richertall < 7.0:\n",
    "    print(\"Ødleggelser med dødsofre\")\n",
    "elif richertall < 8.0:\n",
    "    print(\"Kraftige skjelv, omfattende skader\")\n",
    "else:\n",
    "    print(\"Store skjelv, katastrofale skader\")"
   ]
  }
 ],
 "metadata": {
  "kernelspec": {
   "display_name": "base",
   "language": "python",
   "name": "python3"
  },
  "language_info": {
   "codemirror_mode": {
    "name": "ipython",
    "version": 3
   },
   "file_extension": ".py",
   "mimetype": "text/x-python",
   "name": "python",
   "nbconvert_exporter": "python",
   "pygments_lexer": "ipython3",
   "version": "3.9.12"
  },
  "orig_nbformat": 4
 },
 "nbformat": 4,
 "nbformat_minor": 2
}
