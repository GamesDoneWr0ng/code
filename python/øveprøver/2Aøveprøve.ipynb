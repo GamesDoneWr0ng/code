{
 "cells": [
  {
   "cell_type": "markdown",
   "metadata": {},
   "source": [
    "<h1>Oppgave 1</h1>\n",
    "<p>Lag et program som leser inn to tall fra brukeren. Programmet skal skrive ut hvilket tall som\n",
    "er størst og hvilket som er minst. Hvis tallene er like store, skal programmet skrive at tallene\n",
    "er like.</p>"
   ]
  },
  {
   "cell_type": "code",
   "execution_count": 2,
   "metadata": {},
   "outputs": [
    {
     "name": "stdout",
     "output_type": "stream",
     "text": [
      "  3           0 LOAD_GLOBAL              0 (float)\n",
      "              2 LOAD_GLOBAL              1 (input)\n",
      "              4 LOAD_CONST               1 ('Enter a number: ')\n",
      "              6 CALL_FUNCTION            1\n",
      "              8 CALL_FUNCTION            1\n",
      "             10 STORE_FAST               0 (a)\n",
      "\n",
      "  4          12 LOAD_GLOBAL              0 (float)\n",
      "             14 LOAD_GLOBAL              1 (input)\n",
      "             16 LOAD_CONST               2 ('Enter another number: ')\n",
      "             18 CALL_FUNCTION            1\n",
      "             20 CALL_FUNCTION            1\n",
      "             22 STORE_FAST               1 (b)\n",
      "\n",
      "  6          24 LOAD_FAST                0 (a)\n",
      "             26 LOAD_FAST                1 (b)\n",
      "             28 COMPARE_OP               4 (>)\n",
      "             30 POP_JUMP_IF_FALSE       44\n",
      "\n",
      "  7          32 LOAD_GLOBAL              2 (print)\n",
      "             34 LOAD_FAST                0 (a)\n",
      "             36 LOAD_CONST               3 ('is the largest number')\n",
      "             38 CALL_FUNCTION            2\n",
      "             40 POP_TOP\n",
      "             42 JUMP_FORWARD            28 (to 72)\n",
      "\n",
      "  8     >>   44 LOAD_FAST                0 (a)\n",
      "             46 LOAD_FAST                1 (b)\n",
      "             48 COMPARE_OP               0 (<)\n",
      "             50 POP_JUMP_IF_FALSE       64\n",
      "\n",
      "  9          52 LOAD_GLOBAL              2 (print)\n",
      "             54 LOAD_FAST                1 (b)\n",
      "             56 LOAD_CONST               3 ('is the largest number')\n",
      "             58 CALL_FUNCTION            2\n",
      "             60 POP_TOP\n",
      "             62 JUMP_FORWARD             8 (to 72)\n",
      "\n",
      " 11     >>   64 LOAD_GLOBAL              2 (print)\n",
      "             66 LOAD_CONST               4 ('Both numbers are equal')\n",
      "             68 CALL_FUNCTION            1\n",
      "             70 POP_TOP\n",
      "        >>   72 LOAD_CONST               0 (None)\n",
      "             74 RETURN_VALUE\n"
     ]
    }
   ],
   "source": [
    "a = float(input(\"Enter a number: \"))\n",
    "b = float(input(\"Enter another number: \"))\n",
    "\n",
    "if a > b:\n",
    "    print(a, \"is the largest number\")\n",
    "elif a < b:\n",
    "    print(b, \"is the largest number\")\n",
    "else:\n",
    "    print(\"Both numbers are equal\")"
   ]
  },
  {
   "cell_type": "markdown",
   "metadata": {},
   "source": [
    "<style>\n",
    "th {\n",
    "  padding-top: 5px;\n",
    "  padding-right: 10px;\n",
    "  padding-bottom: 5px;\n",
    "  padding-left: 10px;\n",
    "}\n",
    "</style>\n",
    "\n",
    "<h1>Oppgave 2</h1>\n",
    "<p>Fullfør tabellen nedenfor. Anta at:</p>\n",
    "<p>a = 19</p>\n",
    "<p>b = 85</p>\n",
    "\n",
    "| Kode | Resultat |\n",
    "| :------------: | :-------:  |\n",
    "| print(a < 1) | True |\n",
    "| print(a <= 19) | True |\n",
    "| print(a != b) | True |\n",
    "| print(b == \"85\") | False |\n",
    "| print(a < 19 or b > 90) | False |\n",
    "| print(((a + b) > 100) and b > a) | True |"
   ]
  },
  {
   "cell_type": "markdown",
   "metadata": {},
   "source": [
    "<style>\n",
    "    th {\n",
    "      padding-top: 5px;\n",
    "      padding-right: 10px;\n",
    "      padding-bottom: 5px;\n",
    "      padding-left: 10px;\n",
    "    }\n",
    "    </style>\n",
    "\n",
    "<h1>Oppgave 3</h1>\n",
    "<p>Richters skala er en skala for å karakterisere styrken av jordskjelv. Lag et program der\n",
    "brukeren kan oppgi styrken på et jordskjelv i Richtertall, og som skriver ut en passende\n",
    "beskrivelse av jordskjelvet.\n",
    "<br></p>\n",
    "\n",
    "| Richtertall | Virkning nær episenter |\n",
    "| :------------: | :-------:  |\n",
    "| < 2,0 | Vanligvis ikke følbart |\n",
    "| 2,0-2,9 | Marginalt følbart |\n",
    "| 3,0-3,9 | Merkes av noen |\n",
    "| 4,0-4,9 | Merkes av de fleste |\n",
    "| 5,0-5,9 | Ødeleggende rystelser |\n",
    "| 6,0-6,9 | Ødeleggelser med dødsofre |\n",
    "| 7,0-7,9 | Kraftige skjelv, omfattende skader |\n",
    "| >= 8,0 | Store skjelv, katastrofale skader |"
   ]
  },
  {
   "cell_type": "code",
   "execution_count": 2,
   "metadata": {},
   "outputs": [
    {
     "name": "stdout",
     "output_type": "stream",
     "text": [
      "Ødleggende rystelser\n"
     ]
    }
   ],
   "source": [
    "richertall = float(input(\"Richertall: \"))\n",
    "\n",
    "if richertall < 0:\n",
    "    print(\"Ugyldig tall\")\n",
    "elif richertall < 2.0:\n",
    "    print(\"Vedanligvis ikke følbart\")\n",
    "elif richertall < 3.0:\n",
    "    print(\"Marginalt følbart\")\n",
    "elif richertall < 4.0:\n",
    "    print(\"Merkes av noen\")\n",
    "elif richertall < 5.0:\n",
    "    print(\"Merkes av de fleste\")\n",
    "elif richertall < 6.0:\n",
    "    print(\"Ødleggende rystelser\")\n",
    "elif richertall < 7.0:\n",
    "    print(\"Ødleggelser med dødsofre\")\n",
    "elif richertall < 8.0:\n",
    "    print(\"Kraftige skjelv, omfattende skader\")\n",
    "else:\n",
    "    print(\"Store skjelv, katastrofale skader\")"
   ]
  }
 ],
 "metadata": {
  "kernelspec": {
   "display_name": "base",
   "language": "python",
   "name": "python3"
  },
  "language_info": {
   "codemirror_mode": {
    "name": "ipython",
    "version": 3
   },
   "file_extension": ".py",
   "mimetype": "text/x-python",
   "name": "python",
   "nbconvert_exporter": "python",
   "pygments_lexer": "ipython3",
   "version": "3.9.12"
  },
  "orig_nbformat": 4
 },
 "nbformat": 4,
 "nbformat_minor": 2
}
