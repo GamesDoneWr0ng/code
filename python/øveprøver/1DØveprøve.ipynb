{
 "cells": [
  {
   "cell_type": "markdown",
   "metadata": {},
   "source": [
    "<h1>Oppgave 1</h1>\n",
    "<p>Ta utgangspunkt i disse listene</p>\n",
    "<b>tall = [3, 1, 2, 6, 8, 2, 7, 7, 6, 8, 2, 7, 5, 8, 6, 3, 5, 4, 1, 6]<br></b>\n",
    "<b>ord = [\"xax\", \"er\", \"foff\", \"and\", \"em\", \"nu\", \"nei\", \"nuet\", \"nan\", \"momom\", \"sopp\", \"ost\", \"yax\"]</b>\n",
    "<p>og lag et program som<p>"
   ]
  },
  {
   "cell_type": "code",
   "execution_count": 5,
   "metadata": {},
   "outputs": [
    {
     "name": "stdout",
     "output_type": "stream",
     "text": [
      "3\n",
      "8\n",
      "4\n"
     ]
    }
   ],
   "source": [
    "import numpy as np\n",
    "tall = [3,1,2,6,8,2,7,7,6,8,2,7,5,8,6,3,5,4,1,6]\n",
    "ord = [\"xax\", \"er\", \"foff\", \"and\", \"em\", \"nu\", \"nei\", \"nuet\", \"nan\", \"momom\", \"sopp\", \"ost\", \"yax\"]\n",
    "\n",
    "# a Teller antall forekomster av tallet 7\n",
    "print(tall.count(7))\n",
    "\n",
    "# b Teller antall forekomster av tall i intervalet [2,5] i listen tall ovenfor. Det vil si antall \n",
    "# tall som er større enn eller lik to og samtidig mindre enn eller lik fem\n",
    "arr = np.array(tall)\n",
    "arr = arr[(arr >= 2) & (arr <= 5)]\n",
    "print(arr.size)\n",
    "\n",
    "# c Teller antall ord i listen ord med tre eller flere tengn\n",
    "count = 0\n",
    "for i in ord:\n",
    "    if len(i) >= 3:\n",
    "        count += 1\n",
    "\n",
    "print(count)\n",
    "\n",
    "# d Teller antall ord i listen ord med tre eller flere tengn der teksten også har lik første og siste bokstav\n",
    "count = 0\n",
    "for i in ord:\n",
    "    if i[0] == i[-1] and len(i) >= 3:\n",
    "        count += 1\n",
    "\n",
    "print(count)"
   ]
  },
  {
   "cell_type": "markdown",
   "metadata": {},
   "source": [
    "<h>Oppgave 2</h>\n",
    "<p>Ta utgangspunkt i en liste med heltall, som denne:</p>\n",
    "<b>tall = [89, 3, 89, 87, 46, 63, 54, 68, 15, 69, 27, 20, 68, 62, 25, <br>\n",
    "26, 74, 19, 96, 85, 56, 88, 98, 87, 1, 78, 24, 64, 64, 39, 14, 9, 1, <br>\n",
    "30, 18, 82, 41, 52, 77, 81]</b>\n",
    "<p><br>og lag program som finner</p>"
   ]
  },
  {
   "cell_type": "code",
   "execution_count": 6,
   "metadata": {},
   "outputs": [
    {
     "name": "stdout",
     "output_type": "stream",
     "text": [
      "98\n",
      "1\n",
      "96\n",
      "1\n"
     ]
    }
   ],
   "source": [
    "tall = [89, 3, 89, 87, 46, 63, 54, 68, 15, 69, 27, 20, 68, 62, 25, 26, 74, 19, 96, 85, 56, 88, 98, 87, 1, 78, 24, 64, 64, 39, 14, 9, 1, 30, 18, 82, 41, 52, 77, 81]\n",
    "\n",
    "# a det største tallet i listen\n",
    "print(max(tall))\n",
    "\n",
    "# b det minste tallet i listen\n",
    "print(min(tall))\n",
    "\n",
    "# c det nest største tallet i listen\n",
    "tall.remove(max(tall))\n",
    "print(max(tall))\n",
    "\n",
    "# d det nest minste tallet i listen\n",
    "tall.remove(min(tall))\n",
    "print(min(tall))"
   ]
  },
  {
   "cell_type": "markdown",
   "metadata": {},
   "source": [
    "<h>Oppgave 3</h>\n",
    "<p>I denne oppgaven skal du bruke disse listene:</p>\n",
    "<b>tall1 = [7, 24, 10, 26, 35, 10, 29, 2, 29, 29, 40, 40, 26, 16, 8, 9, 26, <br>\n",
    "5, 18, 9, 13, 40, 28, 37, 32, 6, 11, 35, 9, 26, 6, 11, 2, 10, 11, <br>\n",
    "27, 4, 8, 22, 40, 19]<br></b>\n",
    "\n",
    "<b>tall2 = [56, 49, 28, 52, 58, 33, 26, 27, 58, 36, 36, 48, 55, 25, 58, <br>\n",
    "57, 30, 27, 36, 39, 39, 58, 28, 56, 52, 21, 39, 22, 27, 48, 37, <br>\n",
    "20, 32, 38, 31, 25, 42, 54]</b>"
   ]
  },
  {
   "cell_type": "code",
   "execution_count": 4,
   "metadata": {},
   "outputs": [
    {
     "name": "stdout",
     "output_type": "stream",
     "text": [
      "{2, 4, 5, 6, 7, 8, 9, 10, 11, 13, 16, 18, 19, 22, 24, 26, 27, 28, 29, 32, 35, 37, 40}\n",
      "{20, 21, 22, 25, 26, 27, 28, 30, 31, 32, 33, 36, 37, 38, 39, 42, 48, 49, 52, 54, 55, 56, 57, 58}\n",
      "{32, 37, 22, 26, 27, 28}\n",
      "{2, 35, 4, 5, 6, 7, 8, 9, 10, 11, 40, 13, 16, 18, 19, 24, 29}\n",
      "{33, 36, 58, 38, 39, 42, 48, 49, 20, 21, 52, 54, 55, 25, 56, 57, 30, 31}\n"
     ]
    }
   ],
   "source": [
    "tall1 = [7, 24, 10, 26, 35, 10, 29, 2, 29, 29, 40, 40, 26, 16, 8, 9, 26, 5, 18, 9, 13, 40, 28, 37, 32, 6, 11, 35, 9, 26, 6, 11, 2, 10, 11, 27, 4, 8, 22, 40, 19]\n",
    "\n",
    "tall2 = [56, 49, 28, 52, 58, 33, 26, 27, 58, 36, 36, 48, 55, 25, 58, 57, 30, 27, 36, 39, 39, 58, 28, 56, 52, 21, 39, 22, 27, 48, 37, 20, 32, 38, 31, 25, 42, 54]\n",
    "\n",
    "# dette er basicly hva sets er laget for\n",
    "# a Lag et program som fjerner duplikater (like verdier) fra jver av listene.\n",
    "unik1 = set(tall1)\n",
    "unik2 = set(tall2)\n",
    "\n",
    "print(unik1)\n",
    "print(unik2)\n",
    "\n",
    "# b Lag et som finner og skriver ut alle tallene som finnes i begge listene.\n",
    "print(unik1.intersection(unik2))\n",
    "\n",
    "# c Lag et program som finner de tallene som ikke finnes i begge listene.\n",
    "print(unik1.difference(unik2))\n",
    "print(unik2.difference(unik1))"
   ]
  },
  {
   "cell_type": "code",
   "execution_count": 14,
   "metadata": {},
   "outputs": [
    {
     "ename": "TypeError",
     "evalue": "unhashable type: 'list'",
     "output_type": "error",
     "traceback": [
      "\u001b[0;31m---------------------------------------------------------------------------\u001b[0m",
      "\u001b[0;31mTypeError\u001b[0m                                 Traceback (most recent call last)",
      "\u001b[1;32m/Users/askborgen/Desktop/code/python/øveprøver/1DØveprøve.ipynb Cell 7\u001b[0m line \u001b[0;36m2\n\u001b[1;32m      <a href='vscode-notebook-cell:/Users/askborgen/Desktop/code/python/%C3%B8vepr%C3%B8ver/1D%C3%98vepr%C3%B8ve.ipynb#W6sZmlsZQ%3D%3D?line=0'>1</a>\u001b[0m settning \u001b[39m=\u001b[39m \u001b[39m\"\u001b[39m\u001b[39mDette er en settning som virker for dette programmet!\u001b[39m\u001b[39m\"\u001b[39m\n\u001b[0;32m----> <a href='vscode-notebook-cell:/Users/askborgen/Desktop/code/python/%C3%B8vepr%C3%B8ver/1D%C3%98vepr%C3%B8ve.ipynb#W6sZmlsZQ%3D%3D?line=1'>2</a>\u001b[0m bokstaver \u001b[39m=\u001b[39m {[i, settning\u001b[39m.\u001b[39mcount(i)] \u001b[39mfor\u001b[39;00m i \u001b[39min\u001b[39;00m settning}\n\u001b[1;32m      <a href='vscode-notebook-cell:/Users/askborgen/Desktop/code/python/%C3%B8vepr%C3%B8ver/1D%C3%98vepr%C3%B8ve.ipynb#W6sZmlsZQ%3D%3D?line=2'>3</a>\u001b[0m \u001b[39mprint\u001b[39m(bokstaver)\n",
      "\u001b[1;32m/Users/askborgen/Desktop/code/python/øveprøver/1DØveprøve.ipynb Cell 7\u001b[0m line \u001b[0;36m2\n\u001b[1;32m      <a href='vscode-notebook-cell:/Users/askborgen/Desktop/code/python/%C3%B8vepr%C3%B8ver/1D%C3%98vepr%C3%B8ve.ipynb#W6sZmlsZQ%3D%3D?line=0'>1</a>\u001b[0m settning \u001b[39m=\u001b[39m \u001b[39m\"\u001b[39m\u001b[39mDette er en settning som virker for dette programmet!\u001b[39m\u001b[39m\"\u001b[39m\n\u001b[0;32m----> <a href='vscode-notebook-cell:/Users/askborgen/Desktop/code/python/%C3%B8vepr%C3%B8ver/1D%C3%98vepr%C3%B8ve.ipynb#W6sZmlsZQ%3D%3D?line=1'>2</a>\u001b[0m bokstaver \u001b[39m=\u001b[39m {[i, settning\u001b[39m.\u001b[39mcount(i)] \u001b[39mfor\u001b[39;00m i \u001b[39min\u001b[39;00m settning}\n\u001b[1;32m      <a href='vscode-notebook-cell:/Users/askborgen/Desktop/code/python/%C3%B8vepr%C3%B8ver/1D%C3%98vepr%C3%B8ve.ipynb#W6sZmlsZQ%3D%3D?line=2'>3</a>\u001b[0m \u001b[39mprint\u001b[39m(bokstaver)\n",
      "\u001b[0;31mTypeError\u001b[0m: unhashable type: 'list'"
     ]
    }
   ],
   "source": [
    "settning = \"Dette er en settning som virker for dette programmet!\"\n",
    "bokstaver = dict([i, settning.count(i)] for i in settning)\n",
    "print(bokstaver)"
   ]
  }
 ],
 "metadata": {
  "kernelspec": {
   "display_name": "base",
   "language": "python",
   "name": "python3"
  },
  "language_info": {
   "codemirror_mode": {
    "name": "ipython",
    "version": 3
   },
   "file_extension": ".py",
   "mimetype": "text/x-python",
   "name": "python",
   "nbconvert_exporter": "python",
   "pygments_lexer": "ipython3",
   "version": "3.9.12"
  },
  "orig_nbformat": 4
 },
 "nbformat": 4,
 "nbformat_minor": 2
}
