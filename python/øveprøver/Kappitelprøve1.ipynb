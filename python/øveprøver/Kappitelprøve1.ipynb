{
 "cells": [
  {
   "cell_type": "markdown",
   "metadata": {},
   "source": [
    "<h1>Oppgave 4C</h1>\n",
    "<p>Lag et program som finner summen av de 200 føsrte leddene</p>"
   ]
  },
  {
   "cell_type": "code",
   "execution_count": 1,
   "metadata": {},
   "outputs": [
    {
     "name": "stdout",
     "output_type": "stream",
     "text": [
      "Summen er: 242400\n"
     ]
    }
   ],
   "source": [
    "def a(n):\n",
    "    return 6 + 12 * n # formel for n-te ledd\n",
    "\n",
    "s = 0 # summen\n",
    "for i in range(1, 201): # for alle n opp til og med 200\n",
    "    s += a(i)           # legger til a_n\n",
    "\n",
    "print(f\"Summen er: {s}\")"
   ]
  }
 ],
 "metadata": {
  "kernelspec": {
   "display_name": "base",
   "language": "python",
   "name": "python3"
  },
  "language_info": {
   "codemirror_mode": {
    "name": "ipython",
    "version": 3
   },
   "file_extension": ".py",
   "mimetype": "text/x-python",
   "name": "python",
   "nbconvert_exporter": "python",
   "pygments_lexer": "ipython3",
   "version": "3.9.12"
  },
  "orig_nbformat": 4
 },
 "nbformat": 4,
 "nbformat_minor": 2
}
