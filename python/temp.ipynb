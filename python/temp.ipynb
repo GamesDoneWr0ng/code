{
 "cells": [
  {
   "cell_type": "code",
   "execution_count": 7,
   "metadata": {},
   "outputs": [
    {
     "name": "stdout",
     "output_type": "stream",
     "text": [
      "{'a': 3, 'e': 5, 'f': 3, 'g': 7, 'h': 1, 'i': 9, 'j': 6, 'n': 2, 'o': 2, 'p': 2, 'q': 1, 'v': 2, 'w': 8, 'ø': 1}\n"
     ]
    }
   ],
   "source": [
    "tekst = \"wefpjinggiqfewpigweigvnigjvwifjwajgaijwiojwegoiøwhea\"\n",
    "\n",
    "count = {i: 0 for i in sorted(tekst)}\n",
    "\n",
    "for i in tekst:\n",
    "    count[i] += 1\n",
    "\n",
    "print(count)"
   ]
  },
  {
   "cell_type": "code",
   "execution_count": 11,
   "metadata": {},
   "outputs": [
    {
     "name": "stdout",
     "output_type": "stream",
     "text": [
      "[-10, -9, -8, -7, -6, -5, -4, -3, -2, -1, 0, 1, 2, 3, 4, 5, 6, 7, 8, 9, 10, 11, 12, 13, 14, 15, 16, 17, 18, 19, 20, 21, 22, 23, 24, 25]\n"
     ]
    }
   ],
   "source": [
    "#alfabet = \"abcdefghijklmnopqrstuvwxyz\"\n",
    "alfabet = \"\".join(str([i-10 for i in range(36)]))\n",
    "print(alfabet)"
   ]
  },
  {
   "cell_type": "code",
   "execution_count": null,
   "metadata": {},
   "outputs": [],
   "source": [
    "for i in range(100000):\n",
    "    "
   ]
  }
 ],
 "metadata": {
  "kernelspec": {
   "display_name": "base",
   "language": "python",
   "name": "python3"
  },
  "language_info": {
   "codemirror_mode": {
    "name": "ipython",
    "version": 3
   },
   "file_extension": ".py",
   "mimetype": "text/x-python",
   "name": "python",
   "nbconvert_exporter": "python",
   "pygments_lexer": "ipython3",
   "version": "3.9.12"
  },
  "orig_nbformat": 4
 },
 "nbformat": 4,
 "nbformat_minor": 2
}
