{
 "cells": [
  {
   "cell_type": "code",
   "execution_count": 7,
   "metadata": {},
   "outputs": [
    {
     "name": "stdout",
     "output_type": "stream",
     "text": [
      "Integral: 14.99\n",
      "Volum: 1258.70\n"
     ]
    },
    {
     "data": {
      "image/png": "[encoded data removed]",
      "text/plain": [
       "<Figure size 640x480 with 1 Axes>"
      ]
     },
     "metadata": {},
     "output_type": "display_data"
    }
   ],
   "source": [
    "import numpy as np\n",
    "import pylab as plt\n",
    "\n",
    "def f(x):\n",
    "    return np.e ** x ** 2\n",
    "\n",
    "a = 1\n",
    "b = 2\n",
    "n = 5000\n",
    "dx = (b-a)/n\n",
    "x = np.linspace(a, b, n+1)\n",
    "\n",
    "# integral\n",
    "print(f\"Integral: {np.trapz(f(x), dx=dx):.2f}\")\n",
    "print(f\"Volum: {np.pi * np.trapz(f(x)**2, dx=dx):.2f}\")\n",
    "\n",
    "# plot\n",
    "plt.plot(x, f(x))\n",
    "plt.show()"
   ]
  },
  {
   "cell_type": "code",
   "execution_count": 4,
   "metadata": {},
   "outputs": [],
   "source": [
    "import time\n",
    "def timer(func, args, iters = 100):\n",
    "    times = []\n",
    "    for _ in range(iters):\n",
    "        start = time.time_ns()\n",
    "        func(args)\n",
    "        times.append(time.time_ns() - start)\n",
    "    return sum(times) / len(times)"
   ]
  },
  {
   "cell_type": "code",
   "execution_count": 1,
   "metadata": {},
   "outputs": [
    {
     "name": "stdout",
     "output_type": "stream",
     "text": [
      "Intel MKL WARNING: Support of Intel(R) Streaming SIMD Extensions 4.2 (Intel(R) SSE4.2) enabled only processors has been deprecated. Intel oneAPI Math Kernel Library 2025.0 will require Intel(R) Advanced Vector Extensions (Intel(R) AVX) instructions.\n",
      "Intel MKL WARNING: Support of Intel(R) Streaming SIMD Extensions 4.2 (Intel(R) SSE4.2) enabled only processors has been deprecated. Intel oneAPI Math Kernel Library 2025.0 will require Intel(R) Advanced Vector Extensions (Intel(R) AVX) instructions.\n",
      "pygame 2.2.0 (SDL 2.26.5, Python 3.11.7)\n",
      "Hello from the pygame community. https://www.pygame.org/contribute.html\n"
     ]
    }
   ],
   "source": [
    "import pygame as pg\n",
    "pg.init()\n",
    "\n",
    "SIZE = WIDTH, HIGHT = 600, 300\n",
    "screen = pg.display.set_mode(SIZE, pg.RESIZABLE)\n",
    "\n",
    "COLORS = {\n",
    "    \"blue\": pg.Color(\"#00247D\"),\n",
    "    \"white\": pg.Color(\"#FFFFFF\"),\n",
    "    \"red\": pg.Color(\"#CF142B\")\n",
    "}\n",
    "\n",
    "running = True\n",
    "while running:\n",
    "    for event in pg.event.get():\n",
    "        if event.type == pg.QUIT:\n",
    "            running = False\n",
    "        if event.type == pg.VIDEORESIZE:\n",
    "            SIZE = WIDTH, HIGHT = 2*event.h, event.h\n",
    "            screen = pg.display.set_mode(SIZE, pg.RESIZABLE)\n",
    "\n",
    "    screen.fill(COLORS[\"blue\"])\n",
    "\n",
    "    pg.draw.line(screen, COLORS[\"white\"], (0,0), SIZE, width=HIGHT//5)\n",
    "    pg.draw.line(screen, COLORS[\"white\"], (WIDTH,0), (0, HIGHT), width=HIGHT//5)\n",
    "\n",
    "    pg.draw.line(screen, COLORS[\"red\"], (0,HIGHT/30), (WIDTH/2, HIGHT/2+HIGHT/30), HIGHT//15)\n",
    "    pg.draw.line(screen, COLORS[\"red\"], (WIDTH/2,HIGHT/2-HIGHT/30), (WIDTH, HIGHT-HIGHT/30), HIGHT//15)\n",
    "    pg.draw.line(screen, COLORS[\"red\"], (WIDTH/2, HIGHT/2+HIGHT/30), (0,HIGHT+HIGHT/30), HIGHT//15)\n",
    "    pg.draw.line(screen, COLORS[\"red\"], (WIDTH/2,HIGHT/2-HIGHT/30), (WIDTH, -HIGHT/30-1), HIGHT//15)\n",
    "\n",
    "    pg.draw.rect(screen, COLORS[\"white\"], (0, HIGHT/3, WIDTH, HIGHT/3))\n",
    "    pg.draw.rect(screen, COLORS[\"white\"], (WIDTH*5/12, 0, WIDTH/6, HIGHT))\n",
    "\n",
    "    pg.draw.rect(screen, COLORS[\"red\"], (0, HIGHT*2/5, WIDTH, HIGHT/5))\n",
    "    pg.draw.rect(screen, COLORS[\"red\"], (WIDTH*9/20, 0, WIDTH/10, HIGHT))\n",
    "\n",
    "    pg.display.flip()\n",
    "pg.quit()"
   ]
  },
  {
   "cell_type": "code",
   "execution_count": 42,
   "metadata": {},
   "outputs": [
    {
     "name": "stdout",
     "output_type": "stream",
     "text": [
      "['akrylnitrilbutadienstyrenplast', 'aluminiumskonstruksjonsarbeide', 'bukspyttkjerteltransplantasjon', 'depersonalisasjonsderealisasjo', 'gravitasjonsgradientstabiliser', 'histamin<sub>1<sub>antagoniste', 'histamin<sub>2<sub>antagoniste', 'http:wwwstorenorskeleksikonnoe', 'høyfrekvensrespiratorbehandlin', 'lecitinkolesterolacyltransfera', 'leukotrienreseptorantagonister', 'menneskerettighetsorganisasjon', 'molekylabsorpsjonsspektrometri', 'natriumheksahydroksostannat(IV', 'nøytron–antinøytronoscillasjon', 'plasminogenaktivatorinhibitor1', 'restriksjonsfragmentlengdepoly', 'transplantatmotpasientreaksjon', 'ventilasjonsperfusjonsscintigr', 'røntgenfluorescensspektrometri']\n"
     ]
    }
   ],
   "source": [
    "import re\n",
    "\n",
    "with open(\"/Users/askborgen/Desktop/code/resources/ordliste-master/ordliste_snl_fellesord.txt\") as f:\n",
    "    txt = f.read()\n",
    "    print(re.findall(\".{30}\", txt))"
   ]
  },
  {
   "cell_type": "code",
   "execution_count": 33,
   "metadata": {},
   "outputs": [
    {
     "name": "stdout",
     "output_type": "stream",
     "text": [
      "1 1 1\n",
      "7 7 7\n",
      "19 19 19\n",
      "37 37 37\n",
      "61 61 61\n",
      "91 91 91\n",
      "127 127 127\n",
      "169 169 169\n",
      "217 217 217\n",
      "271 271 271\n",
      "331 331 331\n",
      "397 397 397\n",
      "469 469 469\n",
      "547 547 547\n",
      "631 631 631\n",
      "721 721 721\n",
      "817 817 817\n",
      "919 919 919\n",
      "1027 1027 1027\n",
      "1141 1141 1141\n",
      "1261 1261 1261\n",
      "1387 1387 1387\n",
      "1519 1519 1519\n",
      "1657 1657 1657\n",
      "1801 1801 1801\n",
      "1951 1951 1951\n",
      "2107 2107 2107\n",
      "2269 2269 2269\n",
      "2437 2437 2437\n",
      "2611 2611 2611\n",
      "2791 2791 2791\n",
      "2977 2977 2977\n",
      "3169 3169 3169\n",
      "3367 3367 3367\n",
      "3571 3571 3571\n",
      "3781 3781 3781\n",
      "3997 3997 3997\n",
      "4219 4219 4219\n",
      "4447 4447 4447\n",
      "4681 4681 4681\n",
      "4921 4921 4921\n",
      "5167 5167 5167\n",
      "5419 5419 5419\n",
      "5677 5677 5677\n",
      "5941 5941 5941\n",
      "6211 6211 6211\n",
      "6487 6487 6487\n",
      "6769 6769 6769\n",
      "7057 7057 7057\n",
      "7351 7351 7351\n",
      "7651 7651 7651\n",
      "7957 7957 7957\n",
      "8269 8269 8269\n",
      "8587 8587 8587\n",
      "8911 8911 8911\n",
      "9241 9241 9241\n",
      "9577 9577 9577\n",
      "9919 9919 9919\n",
      "10267 10267 10267\n",
      "10621 10621 10621\n",
      "10981 10981 10981\n",
      "11347 11347 11347\n",
      "11719 11719 11719\n",
      "12097 12097 12097\n",
      "12481 12481 12481\n",
      "12871 12871 12871\n",
      "13267 13267 13267\n",
      "13669 13669 13669\n",
      "14077 14077 14077\n",
      "14491 14491 14491\n",
      "14911 14911 14911\n",
      "15337 15337 15337\n",
      "15769 15769 15769\n",
      "16207 16207 16207\n",
      "16651 16651 16651\n",
      "17101 17101 17101\n",
      "17557 17557 17557\n",
      "18019 18019 18019\n",
      "18487 18487 18487\n",
      "18961 18961 18961\n",
      "19441 19441 19441\n",
      "19927 19927 19927\n",
      "20419 20419 20419\n",
      "20917 20917 20917\n",
      "21421 21421 21421\n",
      "21931 21931 21931\n",
      "22447 22447 22447\n",
      "22969 22969 22969\n",
      "23497 23497 23497\n",
      "24031 24031 24031\n",
      "24571 24571 24571\n",
      "25117 25117 25117\n",
      "25669 25669 25669\n",
      "26227 26227 26227\n",
      "26791 26791 26791\n",
      "27361 27361 27361\n",
      "27937 27937 27937\n",
      "28519 28519 28519\n",
      "29107 29107 29107\n"
     ]
    }
   ],
   "source": [
    "from functools import lru_cache\n",
    "\n",
    "@lru_cache\n",
    "def k(n):\n",
    "    if n == 1:\n",
    "        return 1\n",
    "    return k(n-1) + 6*(n-1)\n",
    "\n",
    "def k2(n):\n",
    "    return 1 + 3*(n-1)*n\n",
    "\n",
    "def k3(n):\n",
    "    return 1 + 3*(n-2)*(n-1) + 6*(n-1)\n",
    "\n",
    "for n in range(1,100):\n",
    "    print(k(n), k2(n), k3(n))"
   ]
  },
  {
   "cell_type": "code",
   "execution_count": 1,
   "metadata": {},
   "outputs": [
    {
     "name": "stdout",
     "output_type": "stream",
     "text": [
      "Intel MKL WARNING: Support of Intel(R) Streaming SIMD Extensions 4.2 (Intel(R) SSE4.2) enabled only processors has been deprecated. Intel oneAPI Math Kernel Library 2025.0 will require Intel(R) Advanced Vector Extensions (Intel(R) AVX) instructions.\n",
      "Intel MKL WARNING: Support of Intel(R) Streaming SIMD Extensions 4.2 (Intel(R) SSE4.2) enabled only processors has been deprecated. Intel oneAPI Math Kernel Library 2025.0 will require Intel(R) Advanced Vector Extensions (Intel(R) AVX) instructions.\n",
      "pygame 2.2.0 (SDL 2.26.5, Python 3.11.7)\n",
      "Hello from the pygame community. https://www.pygame.org/contribute.html\n"
     ]
    },
    {
     "ename": "error",
     "evalue": "video system not initialized",
     "output_type": "error",
     "traceback": [
      "\u001b[0;31m---------------------------------------------------------------------------\u001b[0m",
      "\u001b[0;31merror\u001b[0m                                     Traceback (most recent call last)",
      "\u001b[1;32m/Users/askborgen/Desktop/code/python/temp.ipynb Cell 7\u001b[0m line \u001b[0;36m3\n\u001b[1;32m     <a href='vscode-notebook-cell:/Users/askborgen/Desktop/code/python/temp.ipynb#W5sZmlsZQ%3D%3D?line=28'>29</a>\u001b[0m test \u001b[39m=\u001b[39m Input1D(pg\u001b[39m.\u001b[39mK_a, pg\u001b[39m.\u001b[39mK_d)\n\u001b[1;32m     <a href='vscode-notebook-cell:/Users/askborgen/Desktop/code/python/temp.ipynb#W5sZmlsZQ%3D%3D?line=29'>30</a>\u001b[0m \u001b[39mwhile\u001b[39;00m \u001b[39mTrue\u001b[39;00m:\n\u001b[0;32m---> <a href='vscode-notebook-cell:/Users/askborgen/Desktop/code/python/temp.ipynb#W5sZmlsZQ%3D%3D?line=30'>31</a>\u001b[0m     test\u001b[39m.\u001b[39mupdate(pg\u001b[39m.\u001b[39;49mkey\u001b[39m.\u001b[39;49mget_pressed())\n\u001b[1;32m     <a href='vscode-notebook-cell:/Users/askborgen/Desktop/code/python/temp.ipynb#W5sZmlsZQ%3D%3D?line=31'>32</a>\u001b[0m     \u001b[39mprint\u001b[39m(test\u001b[39m.\u001b[39mval, test \u001b[39m<\u001b[39m\u001b[39m=\u001b[39m \u001b[39m0\u001b[39m)\n",
      "\u001b[0;31merror\u001b[0m: video system not initialized"
     ]
    }
   ],
   "source": [
    "import pygame as pg\n",
    "pg.init()\n",
    "class Input1D:\n",
    "    def __init__(self, keyDown, keyUp) -> None:\n",
    "        self.keyDown = keyDown\n",
    "        self.keyUp = keyUp\n",
    "        self.val = 0\n",
    "\n",
    "    def update(self, keys):\n",
    "        if keys[self.keyDown]:\n",
    "            self.val += 1\n",
    "        if keys[self.keyUp]:\n",
    "            self.val -= 1\n",
    "\n",
    "    def __eq__(self, __value: int) -> int:\n",
    "        return self.val == __value\n",
    "    \n",
    "    def __lt__(self, __value: int) -> int:\n",
    "        return self.val < __value\n",
    "    \n",
    "    def __le__(self, __value: int) -> int:\n",
    "        return self.val <= __value\n",
    "    \n",
    "    def __gt__(self, __value: int) -> int:\n",
    "        return self.val > __value\n",
    "    \n",
    "    def __ge__(self, __value: int) -> int:\n",
    "        return self.val >= __value\n",
    "    \n",
    "test = Input1D(pg.K_a, pg.K_d)\n",
    "while True:\n",
    "    test.update(pg.key.get_pressed())\n",
    "    print(test.val, test <= 0)"
   ]
  },
  {
   "cell_type": "code",
   "execution_count": 5,
   "metadata": {},
   "outputs": [
    {
     "name": "stdout",
     "output_type": "stream",
     "text": [
      "[[3, 0], [3, 1], [3, 2], [4, 0], [4, 1], [4, 2], [4, 3], [5, 0], [5, 1], [5, 2], [5, 3], [5, 4], [6, 0], [6, 1], [6, 2], [6, 3], [6, 4], [6, 5], [7, 0], [7, 1], [7, 2], [7, 3], [7, 4], [7, 5], [7, 6], [8, 0], [8, 1], [8, 2], [8, 3], [8, 4], [8, 5], [8, 6], [8, 7], [9, 0], [9, 1], [9, 2], [9, 3], [9, 4], [9, 5], [9, 6], [9, 7], [9, 8], [10, 0], [10, 1], [10, 2], [10, 3], [10, 4], [10, 5], [10, 6], [10, 7], [10, 8], [10, 9], [11, 0], [11, 1], [11, 2], [11, 3], [11, 4], [11, 5], [11, 6], [11, 7], [11, 8], [11, 9], [11, 10], [12, 0], [12, 1], [12, 2], [12, 3], [12, 4], [12, 5], [12, 6], [12, 7], [12, 8], [12, 9], [12, 10], [12, 11], [13, 0], [13, 1], [13, 2], [13, 3], [13, 4], [13, 5], [13, 6], [13, 7], [13, 8], [13, 9], [13, 10], [13, 11], [13, 12], [14, 0], [14, 1], [14, 2], [14, 3], [14, 4], [14, 5], [14, 6], [14, 7], [14, 8], [14, 9], [14, 10], [14, 11], [14, 12], [14, 13], [15, 0], [15, 1], [15, 2], [15, 3], [15, 4], [15, 5], [15, 6], [15, 7], [15, 8], [15, 9], [15, 10], [15, 11], [15, 12], [15, 13], [15, 14], [16, 0], [16, 1], [16, 2], [16, 3], [16, 4], [16, 5], [16, 6], [16, 7], [16, 8], [16, 9], [16, 10], [16, 11], [16, 12], [16, 13], [16, 14], [16, 15], [17, 0], [17, 1], [17, 2], [17, 3], [17, 4], [17, 5], [17, 6], [17, 7], [17, 8], [17, 9], [17, 10], [17, 11], [17, 12], [17, 13], [17, 14], [17, 15], [17, 16], [18, 0], [18, 1], [18, 2], [18, 3], [18, 4], [18, 5], [18, 6], [18, 7], [18, 8], [18, 9], [18, 10], [18, 11], [18, 12], [18, 13], [18, 14], [18, 15], [18, 16], [18, 17], [19, 0], [19, 1], [19, 2], [19, 3], [19, 4], [19, 5], [19, 6], [19, 7], [19, 8], [19, 9], [19, 10], [19, 11], [19, 12], [19, 13], [19, 14], [19, 15], [19, 16], [19, 17], [19, 18], [20, 0], [20, 1], [20, 2], [20, 3], [20, 4], [20, 5], [20, 6], [20, 7], [20, 8], [20, 9], [20, 10], [20, 11], [20, 12], [20, 13], [20, 14], [20, 15], [20, 16], [20, 17], [20, 18], [20, 19], [21, 0], [21, 1], [21, 2], [21, 3], [21, 4], [21, 5], [21, 6], [21, 7], [21, 8], [21, 9], [21, 10], [21, 11], [21, 12], [21, 13], [21, 14], [21, 15], [21, 16], [21, 17], [21, 18], [21, 19], [21, 20], [22, 0], [22, 1], [22, 2], [22, 3], [22, 4], [22, 5], [22, 6], [22, 7], [22, 8], [22, 9], [22, 10], [22, 11], [22, 12], [22, 13], [22, 14], [22, 15], [22, 16], [22, 17], [22, 18], [22, 19], [22, 20], [22, 21], [23, 0], [23, 1], [23, 2], [23, 3], [23, 4], [23, 5], [23, 6], [23, 7], [23, 8], [23, 9], [23, 10], [23, 11], [23, 12], [23, 13], [23, 14], [23, 15], [23, 16], [23, 17], [23, 18], [23, 19], [23, 20], [23, 21], [23, 22], [24, 0], [24, 1], [24, 2], [24, 3], [24, 4], [24, 5], [24, 6], [24, 7], [24, 8], [24, 9], [24, 10], [24, 11], [24, 12], [24, 13], [24, 14], [24, 15], [24, 16], [24, 17], [24, 18], [24, 19], [24, 20], [24, 21], [24, 22], [24, 23], [25, 0], [25, 1], [25, 2], [25, 3], [25, 4], [25, 5], [25, 6], [25, 7], [25, 8], [25, 9], [25, 10], [25, 11], [25, 12], [25, 13], [25, 14], [25, 15], [25, 16], [25, 17], [25, 18], [25, 19], [25, 20], [25, 21], [25, 22], [25, 23], [25, 24], [26, 0], [26, 1], [26, 2], [26, 3], [26, 4], [26, 5], [26, 6], [26, 7], [26, 8], [26, 9], [26, 10], [26, 11], [26, 12], [26, 13], [26, 14], [26, 15], [26, 16], [26, 17], [26, 18], [26, 19], [26, 20], [26, 21], [26, 22], [26, 23], [26, 24], [26, 25], [27, 0], [27, 1], [27, 2], [27, 3], [27, 4], [27, 5], [27, 6], [27, 7], [27, 8], [27, 9], [27, 10], [27, 11], [27, 12], [27, 13], [27, 14], [27, 15], [27, 16], [27, 17], [27, 18], [27, 19], [27, 20], [27, 21], [27, 22], [27, 23], [27, 24], [27, 25], [27, 26], [28, 0], [28, 1], [28, 2], [28, 3], [28, 4], [28, 5], [28, 6], [28, 7], [28, 8], [28, 9], [28, 10], [28, 11], [28, 12], [28, 13], [28, 14], [28, 15], [28, 16], [28, 17], [28, 18], [28, 19], [28, 20], [28, 21], [28, 22], [28, 23], [28, 24], [28, 25], [28, 26], [28, 27], [29, 0], [29, 1], [29, 2], [29, 3], [29, 4], [29, 5], [29, 6], [29, 7], [29, 8], [29, 9], [29, 10], [29, 11], [29, 12], [29, 13], [29, 14], [29, 15], [29, 16], [29, 17], [29, 18], [29, 19], [29, 20], [29, 21], [29, 22], [29, 23], [29, 24], [29, 25], [29, 26], [29, 27], [29, 28], [30, 0], [30, 1], [30, 2], [30, 3], [30, 4], [30, 5], [30, 6], [30, 7], [30, 8], [30, 9], [30, 10], [30, 11], [30, 12], [30, 13], [30, 14], [30, 15], [30, 16], [30, 17], [30, 18], [30, 19], [30, 20], [30, 21], [30, 22], [30, 23], [30, 24], [30, 25], [30, 26], [30, 27], [30, 28], [30, 29], [31, 0], [31, 1], [31, 2], [31, 3], [31, 4], [31, 5], [31, 6], [31, 7], [31, 8], [31, 9], [31, 10], [31, 11], [31, 12], [31, 13], [31, 14], [31, 15], [31, 16], [31, 17], [31, 18], [31, 19], [31, 20], [31, 21], [31, 22], [31, 23], [31, 24], [31, 25], [31, 26], [31, 27], [31, 28], [31, 29], [31, 30], [32, 0], [32, 1], [32, 2], [32, 3], [32, 4], [32, 5], [32, 6], [32, 7], [32, 8], [32, 9], [32, 10], [32, 11], [32, 12], [32, 13], [32, 14], [32, 15], [32, 16], [32, 17], [32, 18], [32, 19], [32, 20], [32, 21], [32, 22], [32, 23], [32, 24], [32, 25], [32, 26], [32, 27], [32, 28], [32, 29], [32, 30], [32, 31], [33, 0], [33, 1], [33, 2], [33, 3], [33, 4], [33, 5], [33, 6], [33, 7], [33, 8], [33, 9], [33, 10], [33, 11], [33, 12], [33, 13], [33, 14], [33, 15], [33, 16], [33, 17], [33, 18], [33, 19], [33, 20], [33, 21], [33, 22], [33, 23], [33, 24], [33, 25], [33, 26], [33, 27], [33, 28], [33, 29], [33, 30], [33, 31], [33, 32], [34, 0], [34, 1], [34, 2], [34, 3], [34, 4], [34, 5], [34, 6], [34, 7], [34, 8], [34, 9], [34, 10], [34, 11], [34, 12], [34, 13], [34, 14], [34, 15], [34, 16], [34, 17], [34, 18], [34, 19], [34, 20], [34, 21], [34, 22], [34, 23], [34, 24], [34, 25], [34, 26], [34, 27], [34, 28], [34, 29], [34, 30], [34, 31], [34, 32], [34, 33], [35, 0], [35, 1], [35, 2], [35, 3], [35, 4], [35, 5], [35, 6], [35, 7], [35, 8], [35, 9], [35, 10], [35, 11], [35, 12], [35, 13], [35, 14], [35, 15], [35, 16], [35, 17], [35, 18], [35, 19], [35, 20], [35, 21], [35, 22], [35, 23], [35, 24], [35, 25], [35, 26], [35, 27], [35, 28], [35, 29], [35, 30], [35, 31], [35, 32], [35, 33], [35, 34], [36, 0], [36, 1], [36, 2], [36, 3], [36, 4], [36, 5], [36, 6], [36, 7], [36, 8], [36, 9], [36, 10], [36, 11], [36, 12], [36, 13], [36, 14], [36, 15], [36, 16], [36, 17], [36, 18], [36, 19], [36, 20], [36, 21], [36, 22], [36, 23], [36, 24], [36, 25], [36, 26], [36, 27], [36, 28], [36, 29], [36, 30], [36, 31], [36, 32], [36, 33], [36, 34], [36, 35], [37, 0], [37, 1], [37, 2], [37, 3], [37, 4], [37, 5], [37, 6], [37, 7], [37, 8], [37, 9], [37, 10], [37, 11], [37, 12], [37, 13], [37, 14], [37, 15], [37, 16], [37, 17], [37, 18], [37, 19], [37, 20], [37, 21], [37, 22], [37, 23], [37, 24], [37, 25], [37, 26], [37, 27], [37, 28], [37, 29], [37, 30], [37, 31], [37, 32], [37, 33], [37, 34], [37, 35], [37, 36], [38, 0], [38, 1], [38, 2], [38, 3], [38, 4], [38, 5], [38, 6], [38, 7], [38, 8], [38, 9], [38, 10], [38, 11], [38, 12], [38, 13], [38, 14], [38, 15], [38, 16], [38, 17], [38, 18], [38, 19], [38, 20], [38, 21], [38, 22], [38, 23], [38, 24], [38, 25], [38, 26], [38, 27], [38, 28], [38, 29], [38, 30], [38, 31], [38, 32], [38, 33], [38, 34], [38, 35], [38, 36], [38, 37], [39, 0], [39, 1], [39, 2], [39, 3], [39, 4], [39, 5], [39, 6], [39, 7], [39, 8], [39, 9], [39, 10], [39, 11], [39, 12], [39, 13], [39, 14], [39, 15], [39, 16], [39, 17], [39, 18], [39, 19], [39, 20], [39, 21], [39, 22], [39, 23], [39, 24], [39, 25], [39, 26], [39, 27], [39, 28], [39, 29], [39, 30], [39, 31], [39, 32], [39, 33], [39, 34], [39, 35], [39, 36], [39, 37], [39, 38], [40, 0], [40, 1], [40, 2], [40, 3], [40, 4], [40, 5], [40, 6], [40, 7], [40, 8], [40, 9], [40, 10], [40, 11], [40, 12], [40, 13], [40, 14], [40, 15], [40, 16], [40, 17], [40, 18], [40, 19], [40, 20], [40, 21], [40, 22], [40, 23], [40, 24], [40, 25], [40, 26], [40, 27], [40, 28], [40, 29], [40, 30], [40, 31], [40, 32], [40, 33], [40, 34], [40, 35], [40, 36], [40, 37], [40, 38], [40, 39], [41, 0], [41, 1], [41, 2], [41, 3], [41, 4], [41, 5], [41, 6], [41, 7], [41, 8], [41, 9], [41, 10], [41, 11], [41, 12], [41, 13], [41, 14], [41, 15], [41, 16], [41, 17], [41, 18], [41, 19], [41, 20], [41, 21], [41, 22], [41, 23], [41, 24], [41, 25], [41, 26], [41, 27], [41, 28], [41, 29], [41, 30], [41, 31], [41, 32], [41, 33], [41, 34], [41, 35], [41, 36], [41, 37], [41, 38], [41, 39], [41, 40], [42, 0], [42, 1], [42, 2], [42, 3], [42, 4], [42, 5], [42, 6], [42, 7], [42, 8], [42, 9], [42, 10], [42, 11], [42, 12], [42, 13], [42, 14], [42, 15], [42, 16], [42, 17], [42, 18], [42, 19], [42, 20], [42, 21], [42, 22], [42, 23], [42, 24], [42, 25], [42, 26], [42, 27], [42, 28], [42, 29], [42, 30], [42, 31], [42, 32], [42, 33], [42, 34], [42, 35], [42, 36], [42, 37], [42, 38], [42, 39], [42, 40], [42, 41], [43, 0], [43, 1], [43, 2], [43, 3], [43, 4], [43, 5], [43, 6], [43, 7], [43, 8], [43, 9], [43, 10], [43, 11], [43, 12], [43, 13], [43, 14], [43, 15], [43, 16], [43, 17], [43, 18], [43, 19], [43, 20], [43, 21], [43, 22], [43, 23], [43, 24], [43, 25], [43, 26], [43, 27], [43, 28], [43, 29], [43, 30], [43, 31], [43, 32], [43, 33], [43, 34], [43, 35], [43, 36], [43, 37], [43, 38], [43, 39], [43, 40], [43, 41], [43, 42], [44, 0], [44, 1], [44, 2], [44, 3], [44, 4], [44, 5], [44, 6], [44, 7], [44, 8], [44, 9], [44, 10], [44, 11], [44, 12], [44, 13], [44, 14], [44, 15], [44, 16], [44, 17], [44, 18], [44, 19], [44, 20], [44, 21], [44, 22], [44, 23], [44, 24], [44, 25], [44, 26], [44, 27], [44, 28], [44, 29], [44, 30], [44, 31], [44, 32], [44, 33], [44, 34], [44, 35], [44, 36], [44, 37], [44, 38], [44, 39], [44, 40], [44, 41], [44, 42], [44, 43], [45, 0], [45, 1], [45, 2], [45, 3], [45, 4], [45, 5], [45, 6], [45, 7], [45, 8], [45, 9], [45, 10], [45, 11], [45, 12], [45, 13], [45, 14], [45, 15], [45, 16], [45, 17], [45, 18], [45, 19], [45, 20], [45, 21], [45, 22], [45, 23], [45, 24], [45, 25], [45, 26], [45, 27], [45, 28], [45, 29], [45, 30], [45, 31], [45, 32], [45, 33], [45, 34], [45, 35], [45, 36], [45, 37], [45, 38], [45, 39], [45, 40], [45, 41], [45, 42], [45, 43], [45, 44], [46, 0], [46, 1], [46, 2], [46, 3], [46, 4], [46, 5], [46, 6], [46, 7], [46, 8], [46, 9], [46, 10], [46, 11], [46, 12], [46, 13], [46, 14], [46, 15], [46, 16], [46, 17], [46, 18], [46, 19], [46, 20], [46, 21], [46, 22], [46, 23], [46, 24], [46, 25], [46, 26], [46, 27], [46, 28], [46, 29], [46, 30], [46, 31], [46, 32], [46, 33], [46, 34], [46, 35], [46, 36], [46, 37], [46, 38], [46, 39], [46, 40], [46, 41], [46, 42], [46, 43], [46, 44], [46, 45], [47, 0], [47, 1], [47, 2], [47, 3], [47, 4], [47, 5], [47, 6], [47, 7], [47, 8], [47, 9], [47, 10], [47, 11], [47, 12], [47, 13], [47, 14], [47, 15], [47, 16], [47, 17], [47, 18], [47, 19], [47, 20], [47, 21], [47, 22], [47, 23], [47, 24], [47, 25], [47, 26], [47, 27], [47, 28], [47, 29], [47, 30], [47, 31], [47, 32], [47, 33], [47, 34], [47, 35], [47, 36], [47, 37], [47, 38], [47, 39], [47, 40], [47, 41], [47, 42], [47, 43], [47, 44], [47, 45], [47, 46], [48, 0], [48, 1], [48, 2], [48, 3], [48, 4], [48, 5], [48, 6], [48, 7], [48, 8], [48, 9], [48, 10], [48, 11], [48, 12], [48, 13], [48, 14], [48, 15], [48, 16], [48, 17], [48, 18], [48, 19], [48, 20], [48, 21], [48, 22], [48, 23], [48, 24], [48, 25], [48, 26], [48, 27], [48, 28], [48, 29], [48, 30], [48, 31], [48, 32], [48, 33], [48, 34], [48, 35], [48, 36], [48, 37], [48, 38], [48, 39], [48, 40], [48, 41], [48, 42], [48, 43], [48, 44], [48, 45], [48, 46], [48, 47], [49, 0], [49, 1], [49, 2], [49, 3], [49, 4], [49, 5], [49, 6], [49, 7], [49, 8], [49, 9], [49, 10], [49, 11], [49, 12], [49, 13], [49, 14], [49, 15], [49, 16], [49, 17], [49, 18], [49, 19], [49, 20], [49, 21], [49, 22], [49, 23], [49, 24], [49, 25], [49, 26], [49, 27], [49, 28], [49, 29], [49, 30], [49, 31], [49, 32], [49, 33], [49, 34], [49, 35], [49, 36], [49, 37], [49, 38], [49, 39], [49, 40], [49, 41], [49, 42], [49, 43], [49, 44], [49, 45], [49, 46], [49, 47], [49, 48]]\n"
     ]
    }
   ],
   "source": [
    "full = []\n",
    "for i in range(3, 50):\n",
    "    for n in range(i):\n",
    "        full += [[i, n]]\n",
    "\n",
    "print(full)"
   ]
  },
  {
   "cell_type": "code",
   "execution_count": 3,
   "metadata": {},
   "outputs": [],
   "source": [
    "def penger(tikroner, femkroner, kronestykker):\n",
    "    return 10*tikroner + 5*femkroner + kronestykker"
   ]
  },
  {
   "cell_type": "code",
   "execution_count": 3,
   "metadata": {},
   "outputs": [
    {
     "name": "stdout",
     "output_type": "stream",
     "text": [
      "8.0 4 4 1\n",
      "8.0 6.0 2.0 2\n",
      "8.0 7.0 1.0 3\n",
      "8.0 7.5 0.5 4\n",
      "8.0 7.75 0.25 5\n",
      "5\n"
     ]
    }
   ],
   "source": [
    "a1 = 4\n",
    "k = 0.5\n",
    "\n",
    "delta = 0.3\n",
    "\n",
    "an = a1\n",
    "s = a1/(1-k)\n",
    "sn = a1\n",
    "n = 1\n",
    "\n",
    "print(s, sn, an, n)\n",
    "\n",
    "while abs(s-sn) > delta:\n",
    "    an = an*k\n",
    "    sn = sn+an\n",
    "    n += 1\n",
    "    \n",
    "    print(s, sn, an, n)\n",
    "\n",
    "print(n)"
   ]
  },
  {
   "cell_type": "code",
   "execution_count": 6,
   "metadata": {},
   "outputs": [
    {
     "data": {
      "text/plain": [
       "(8, 3)"
      ]
     },
     "execution_count": 6,
     "metadata": {},
     "output_type": "execute_result"
    }
   ],
   "source": [
    "def swap(x, y):\n",
    "    x = x^y\n",
    "    y = x^y\n",
    "    x = x^y\n",
    "    return x, y\n",
    "\n",
    "swap(3,8)"
   ]
  }
 ],
 "metadata": {
  "kernelspec": {
   "display_name": "base",
   "language": "python",
   "name": "python3"
  },
  "language_info": {
   "codemirror_mode": {
    "name": "ipython",
    "version": 3
   },
   "file_extension": ".py",
   "mimetype": "text/x-python",
   "name": "python",
   "nbconvert_exporter": "python",
   "pygments_lexer": "ipython3",
   "version": "3.11.7"
  },
  "orig_nbformat": 4
 },
 "nbformat": 4,
 "nbformat_minor": 2
}
