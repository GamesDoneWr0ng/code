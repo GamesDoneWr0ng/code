{
 "cells": [
  {
   "cell_type": "code",
   "execution_count": 2,
   "metadata": {},
   "outputs": [],
   "source": [
    "import math"
   ]
  },
  {
   "cell_type": "code",
   "execution_count": 4,
   "metadata": {},
   "outputs": [
    {
     "name": "stdout",
     "output_type": "stream",
     "text": [
      "3880\n"
     ]
    }
   ],
   "source": [
    "# Oppgave 1\n",
    "a = int(input(\"tall1: \"))\n",
    "b = int(input(\"tall2: \"))\n",
    "c = int(input(\"tall3: \"))\n",
    "print(sum((a,b,c)))"
   ]
  },
  {
   "cell_type": "code",
   "execution_count": 3,
   "metadata": {},
   "outputs": [
    {
     "name": "stdout",
     "output_type": "stream",
     "text": [
      "4188.790204786391 62.83185307179586\n",
      "Jorda omkrets: 40030173.59204114\n",
      "Jorda+1 omkrets: 40030179.87522645\n"
     ]
    }
   ],
   "source": [
    "# Oppgave 2\n",
    "r = float(input(\"Radius: \"))\n",
    "jorda = 6371_000 # m\n",
    "volum = (4/3) * math.pi * r**3\n",
    "omkrets = 2 * math.pi * r\n",
    "\n",
    "print(volum, omkrets)\n",
    "print(f\"Jorda omkrets: {2 * math.pi * jorda}\")\n",
    "print(f\"Jorda+1 omkrets: {2 * math.pi * (jorda+1)}\")"
   ]
  },
  {
   "cell_type": "code",
   "execution_count": 9,
   "metadata": {},
   "outputs": [
    {
     "name": "stdout",
     "output_type": "stream",
     "text": [
      "Borgen, Ask - A. B.\n"
     ]
    }
   ],
   "source": [
    "# Oppgave 3\n",
    "fornavn = input(\"Skriv inn fornavn: \")\n",
    "etternavn = input(\"Skriv inn etternavn: \")\n",
    "print(f\"{etternavn}, {fornavn} - {fornavn[0]}. {etternavn[0]}.\")"
   ]
  },
  {
   "cell_type": "code",
   "execution_count": 8,
   "metadata": {},
   "outputs": [
    {
     "ename": "SyntaxError",
     "evalue": "cannot assign to operator (2421304539.py, line 5)",
     "output_type": "error",
     "traceback": [
      "\u001b[0;36m  Cell \u001b[0;32mIn[8], line 5\u001b[0;36m\u001b[0m\n\u001b[0;31m    billet-pris = 120\u001b[0m\n\u001b[0m    ^\u001b[0m\n\u001b[0;31mSyntaxError\u001b[0m\u001b[0;31m:\u001b[0m cannot assign to operator\n"
     ]
    }
   ],
   "source": [
    "# - er opperasjon og ikke tilat i variabelnavn: Expression cannot be assignment target\n",
    "# fire.billeter forventer en variabel fire og prøver å nå dens billeter: \"fire\" is not defined\n",
    "# resultatet er en SyntaxError\n",
    "\n",
    "billet-pris = 120\n",
    "fire.billeter = 120*4\n",
    "\n",
    "print(\"Prisen for fire billeter er\", fire.billeter)"
   ]
  }
 ],
 "metadata": {
  "kernelspec": {
   "display_name": "base",
   "language": "python",
   "name": "python3"
  },
  "language_info": {
   "codemirror_mode": {
    "name": "ipython",
    "version": 3
   },
   "file_extension": ".py",
   "mimetype": "text/x-python",
   "name": "python",
   "nbconvert_exporter": "python",
   "pygments_lexer": "ipython3",
   "version": "3.9.12"
  },
  "orig_nbformat": 4
 },
 "nbformat": 4,
 "nbformat_minor": 2
}
