{
 "cells": [
  {
   "cell_type": "code",
   "execution_count": 7,
   "metadata": {},
   "outputs": [
    {
     "name": "stdout",
     "output_type": "stream",
     "text": [
      "Integral: 14.99\n",
      "Volum: 1258.70\n"
     ]
    },
    {
     "data": {
      "image/png": "[encoded data removed]",
      "text/plain": [
       "<Figure size 640x480 with 1 Axes>"
      ]
     },
     "metadata": {},
     "output_type": "display_data"
    }
   ],
   "source": [
    "import numpy as np\n",
    "import pylab as plt\n",
    "\n",
    "def f(x):\n",
    "    return np.e ** x ** 2\n",
    "\n",
    "a = 1\n",
    "b = 2\n",
    "n = 5000\n",
    "dx = (b-a)/n\n",
    "x = np.linspace(a, b, n+1)\n",
    "\n",
    "# integral\n",
    "print(f\"Integral: {np.trapz(f(x), dx=dx):.2f}\")\n",
    "print(f\"Volum: {np.pi * np.trapz(f(x)**2, dx=dx):.2f}\")\n",
    "\n",
    "# plot\n",
    "plt.plot(x, f(x))\n",
    "plt.show()"
   ]
  },
  {
   "cell_type": "code",
   "execution_count": 4,
   "metadata": {},
   "outputs": [],
   "source": [
    "import time\n",
    "def timer(func, args, iters = 100):\n",
    "    times = []\n",
    "    for _ in range(iters):\n",
    "        start = time.time_ns()\n",
    "        func(args)\n",
    "        times.append(time.time_ns() - start)\n",
    "    return sum(times) / len(times)"
   ]
  },
  {
   "cell_type": "code",
   "execution_count": 42,
   "metadata": {},
   "outputs": [
    {
     "name": "stdout",
     "output_type": "stream",
     "text": [
      "['akrylnitrilbutadienstyrenplast', 'aluminiumskonstruksjonsarbeide', 'bukspyttkjerteltransplantasjon', 'depersonalisasjonsderealisasjo', 'gravitasjonsgradientstabiliser', 'histamin<sub>1<sub>antagoniste', 'histamin<sub>2<sub>antagoniste', 'http:wwwstorenorskeleksikonnoe', 'høyfrekvensrespiratorbehandlin', 'lecitinkolesterolacyltransfera', 'leukotrienreseptorantagonister', 'menneskerettighetsorganisasjon', 'molekylabsorpsjonsspektrometri', 'natriumheksahydroksostannat(IV', 'nøytron–antinøytronoscillasjon', 'plasminogenaktivatorinhibitor1', 'restriksjonsfragmentlengdepoly', 'transplantatmotpasientreaksjon', 'ventilasjonsperfusjonsscintigr', 'røntgenfluorescensspektrometri']\n"
     ]
    }
   ],
   "source": [
    "import re\n",
    "\n",
    "with open(\"/Users/askborgen/Desktop/code/resources/ordliste-master/ordliste_snl_fellesord.txt\") as f:\n",
    "    txt = f.read()\n",
    "    print(re.findall(\".{30}\", txt))"
   ]
  },
  {
   "cell_type": "code",
   "execution_count": 33,
   "metadata": {},
   "outputs": [
    {
     "name": "stdout",
     "output_type": "stream",
     "text": [
      "[[  2.5   2.5   2.5   2.5   2.5]\n",
      " [  7.5   7.5   7.5   7.5   7.5]\n",
      " [ 22.5  22.5  22.5  22.5  22.5]\n",
      " [ 67.5  67.5  67.5  67.5  67.5]\n",
      " [202.5 202.5 202.5 202.5 202.5]]\n"
     ]
    }
   ],
   "source": [
    "import numpy as np\n",
    "λ = 3\n",
    "µ1 = (-(λ-1)+np.sqrt((λ-1)**2+4*λ))/2\n",
    "µ2 = (-(λ-1)-np.sqrt((λ-1)**2+4*λ))/2\n",
    "\n",
    "A=0.5\n",
    "B=2\n",
    "\n",
    "def f(n,k):\n",
    "    return np.abs(A*(µ1**n * µ2**k) + B*(µ1**n * µ2**k))\n",
    "    #return ((1 - µ2) / (µ1 - µ2)) * λ**n * µ1**k + ((µ1 - 1) / (µ1 - µ2)) * λ**n * µ2**k\n",
    "\n",
    "n = np.arange(5)\n",
    "k = np.arange(5)\n",
    "n,k = np.meshgrid(n,k)\n",
    "print(f(n,k))"
   ]
  },
  {
   "cell_type": "code",
   "execution_count": 29,
   "metadata": {},
   "outputs": [
    {
     "ename": "SystemError",
     "evalue": "<class 'property'> returned a result with an exception set",
     "output_type": "error",
     "traceback": [
      "\u001b[0;31m---------------------------------------------------------------------------\u001b[0m",
      "\u001b[0;31mAttributeError\u001b[0m                            Traceback (most recent call last)",
      "\u001b[0;31mAttributeError\u001b[0m: partially initialized module 'pandas' has no attribute '_pandas_datetime_CAPI' (most likely due to a circular import)",
      "\nThe above exception was the direct cause of the following exception:\n",
      "\u001b[0;31mSystemError\u001b[0m                               Traceback (most recent call last)",
      "Cell \u001b[0;32mIn[29], line 1\u001b[0m\n\u001b[0;32m----> 1\u001b[0m \u001b[38;5;28;01mimport\u001b[39;00m \u001b[38;5;21;01mpandas\u001b[39;00m \u001b[38;5;28;01mas\u001b[39;00m \u001b[38;5;21;01mpd\u001b[39;00m\n\u001b[1;32m      2\u001b[0m \u001b[38;5;28;01mimport\u001b[39;00m \u001b[38;5;21;01mnumpy\u001b[39;00m \u001b[38;5;28;01mas\u001b[39;00m \u001b[38;5;21;01mnp\u001b[39;00m\n\u001b[1;32m      3\u001b[0m \u001b[38;5;28;01mimport\u001b[39;00m \u001b[38;5;21;01mmatplotlib\u001b[39;00m\u001b[38;5;21;01m.\u001b[39;00m\u001b[38;5;21;01mpyplot\u001b[39;00m \u001b[38;5;28;01mas\u001b[39;00m \u001b[38;5;21;01mplt\u001b[39;00m\n",
      "File \u001b[0;32m/opt/anaconda3/envs/py11/lib/python3.11/site-packages/pandas/__init__.py:49\u001b[0m\n\u001b[1;32m     46\u001b[0m \u001b[38;5;66;03m# let init-time option registration happen\u001b[39;00m\n\u001b[1;32m     47\u001b[0m \u001b[38;5;28;01mimport\u001b[39;00m \u001b[38;5;21;01mpandas\u001b[39;00m\u001b[38;5;21;01m.\u001b[39;00m\u001b[38;5;21;01mcore\u001b[39;00m\u001b[38;5;21;01m.\u001b[39;00m\u001b[38;5;21;01mconfig_init\u001b[39;00m  \u001b[38;5;66;03m# pyright: ignore[reportUnusedImport] # noqa: F401\u001b[39;00m\n\u001b[0;32m---> 49\u001b[0m \u001b[38;5;28;01mfrom\u001b[39;00m \u001b[38;5;21;01mpandas\u001b[39;00m\u001b[38;5;21;01m.\u001b[39;00m\u001b[38;5;21;01mcore\u001b[39;00m\u001b[38;5;21;01m.\u001b[39;00m\u001b[38;5;21;01mapi\u001b[39;00m \u001b[38;5;28;01mimport\u001b[39;00m (\n\u001b[1;32m     50\u001b[0m     \u001b[38;5;66;03m# dtype\u001b[39;00m\n\u001b[1;32m     51\u001b[0m     ArrowDtype,\n\u001b[1;32m     52\u001b[0m     Int8Dtype,\n\u001b[1;32m     53\u001b[0m     Int16Dtype,\n\u001b[1;32m     54\u001b[0m     Int32Dtype,\n\u001b[1;32m     55\u001b[0m     Int64Dtype,\n\u001b[1;32m     56\u001b[0m     UInt8Dtype,\n\u001b[1;32m     57\u001b[0m     UInt16Dtype,\n\u001b[1;32m     58\u001b[0m     UInt32Dtype,\n\u001b[1;32m     59\u001b[0m     UInt64Dtype,\n\u001b[1;32m     60\u001b[0m     Float32Dtype,\n\u001b[1;32m     61\u001b[0m     Float64Dtype,\n\u001b[1;32m     62\u001b[0m     CategoricalDtype,\n\u001b[1;32m     63\u001b[0m     PeriodDtype,\n\u001b[1;32m     64\u001b[0m     IntervalDtype,\n\u001b[1;32m     65\u001b[0m     DatetimeTZDtype,\n\u001b[1;32m     66\u001b[0m     StringDtype,\n\u001b[1;32m     67\u001b[0m     BooleanDtype,\n\u001b[1;32m     68\u001b[0m     \u001b[38;5;66;03m# missing\u001b[39;00m\n\u001b[1;32m     69\u001b[0m     NA,\n\u001b[1;32m     70\u001b[0m     isna,\n\u001b[1;32m     71\u001b[0m     isnull,\n\u001b[1;32m     72\u001b[0m     notna,\n\u001b[1;32m     73\u001b[0m     notnull,\n\u001b[1;32m     74\u001b[0m     \u001b[38;5;66;03m# indexes\u001b[39;00m\n\u001b[1;32m     75\u001b[0m     Index,\n\u001b[1;32m     76\u001b[0m     CategoricalIndex,\n\u001b[1;32m     77\u001b[0m     RangeIndex,\n\u001b[1;32m     78\u001b[0m     MultiIndex,\n\u001b[1;32m     79\u001b[0m     IntervalIndex,\n\u001b[1;32m     80\u001b[0m     TimedeltaIndex,\n\u001b[1;32m     81\u001b[0m     DatetimeIndex,\n\u001b[1;32m     82\u001b[0m     PeriodIndex,\n\u001b[1;32m     83\u001b[0m     IndexSlice,\n\u001b[1;32m     84\u001b[0m     \u001b[38;5;66;03m# tseries\u001b[39;00m\n\u001b[1;32m     85\u001b[0m     NaT,\n\u001b[1;32m     86\u001b[0m     Period,\n\u001b[1;32m     87\u001b[0m     period_range,\n\u001b[1;32m     88\u001b[0m     Timedelta,\n\u001b[1;32m     89\u001b[0m     timedelta_range,\n\u001b[1;32m     90\u001b[0m     Timestamp,\n\u001b[1;32m     91\u001b[0m     date_range,\n\u001b[1;32m     92\u001b[0m     bdate_range,\n\u001b[1;32m     93\u001b[0m     Interval,\n\u001b[1;32m     94\u001b[0m     interval_range,\n\u001b[1;32m     95\u001b[0m     DateOffset,\n\u001b[1;32m     96\u001b[0m     \u001b[38;5;66;03m# conversion\u001b[39;00m\n\u001b[1;32m     97\u001b[0m     to_numeric,\n\u001b[1;32m     98\u001b[0m     to_datetime,\n\u001b[1;32m     99\u001b[0m     to_timedelta,\n\u001b[1;32m    100\u001b[0m     \u001b[38;5;66;03m# misc\u001b[39;00m\n\u001b[1;32m    101\u001b[0m     Flags,\n\u001b[1;32m    102\u001b[0m     Grouper,\n\u001b[1;32m    103\u001b[0m     factorize,\n\u001b[1;32m    104\u001b[0m     unique,\n\u001b[1;32m    105\u001b[0m     value_counts,\n\u001b[1;32m    106\u001b[0m     NamedAgg,\n\u001b[1;32m    107\u001b[0m     array,\n\u001b[1;32m    108\u001b[0m     Categorical,\n\u001b[1;32m    109\u001b[0m     set_eng_float_format,\n\u001b[1;32m    110\u001b[0m     Series,\n\u001b[1;32m    111\u001b[0m     DataFrame,\n\u001b[1;32m    112\u001b[0m )\n\u001b[1;32m    114\u001b[0m \u001b[38;5;28;01mfrom\u001b[39;00m \u001b[38;5;21;01mpandas\u001b[39;00m\u001b[38;5;21;01m.\u001b[39;00m\u001b[38;5;21;01mcore\u001b[39;00m\u001b[38;5;21;01m.\u001b[39;00m\u001b[38;5;21;01mdtypes\u001b[39;00m\u001b[38;5;21;01m.\u001b[39;00m\u001b[38;5;21;01mdtypes\u001b[39;00m \u001b[38;5;28;01mimport\u001b[39;00m SparseDtype\n\u001b[1;32m    116\u001b[0m \u001b[38;5;28;01mfrom\u001b[39;00m \u001b[38;5;21;01mpandas\u001b[39;00m\u001b[38;5;21;01m.\u001b[39;00m\u001b[38;5;21;01mtseries\u001b[39;00m\u001b[38;5;21;01m.\u001b[39;00m\u001b[38;5;21;01mapi\u001b[39;00m \u001b[38;5;28;01mimport\u001b[39;00m infer_freq\n",
      "File \u001b[0;32m/opt/anaconda3/envs/py11/lib/python3.11/site-packages/pandas/core/api.py:1\u001b[0m\n\u001b[0;32m----> 1\u001b[0m \u001b[38;5;28;01mfrom\u001b[39;00m \u001b[38;5;21;01mpandas\u001b[39;00m\u001b[38;5;21;01m.\u001b[39;00m\u001b[38;5;21;01m_libs\u001b[39;00m \u001b[38;5;28;01mimport\u001b[39;00m (\n\u001b[1;32m      2\u001b[0m     NaT,\n\u001b[1;32m      3\u001b[0m     Period,\n\u001b[1;32m      4\u001b[0m     Timedelta,\n\u001b[1;32m      5\u001b[0m     Timestamp,\n\u001b[1;32m      6\u001b[0m )\n\u001b[1;32m      7\u001b[0m \u001b[38;5;28;01mfrom\u001b[39;00m \u001b[38;5;21;01mpandas\u001b[39;00m\u001b[38;5;21;01m.\u001b[39;00m\u001b[38;5;21;01m_libs\u001b[39;00m\u001b[38;5;21;01m.\u001b[39;00m\u001b[38;5;21;01mmissing\u001b[39;00m \u001b[38;5;28;01mimport\u001b[39;00m NA\n\u001b[1;32m      9\u001b[0m \u001b[38;5;28;01mfrom\u001b[39;00m \u001b[38;5;21;01mpandas\u001b[39;00m\u001b[38;5;21;01m.\u001b[39;00m\u001b[38;5;21;01mcore\u001b[39;00m\u001b[38;5;21;01m.\u001b[39;00m\u001b[38;5;21;01mdtypes\u001b[39;00m\u001b[38;5;21;01m.\u001b[39;00m\u001b[38;5;21;01mdtypes\u001b[39;00m \u001b[38;5;28;01mimport\u001b[39;00m (\n\u001b[1;32m     10\u001b[0m     ArrowDtype,\n\u001b[1;32m     11\u001b[0m     CategoricalDtype,\n\u001b[0;32m   (...)\u001b[0m\n\u001b[1;32m     14\u001b[0m     PeriodDtype,\n\u001b[1;32m     15\u001b[0m )\n",
      "File \u001b[0;32m/opt/anaconda3/envs/py11/lib/python3.11/site-packages/pandas/_libs/__init__.py:18\u001b[0m\n\u001b[1;32m     16\u001b[0m \u001b[38;5;28;01mimport\u001b[39;00m \u001b[38;5;21;01mpandas\u001b[39;00m\u001b[38;5;21;01m.\u001b[39;00m\u001b[38;5;21;01m_libs\u001b[39;00m\u001b[38;5;21;01m.\u001b[39;00m\u001b[38;5;21;01mpandas_parser\u001b[39;00m  \u001b[38;5;66;03m# isort: skip # type: ignore[reportUnusedImport]\u001b[39;00m\n\u001b[1;32m     17\u001b[0m \u001b[38;5;28;01mimport\u001b[39;00m \u001b[38;5;21;01mpandas\u001b[39;00m\u001b[38;5;21;01m.\u001b[39;00m\u001b[38;5;21;01m_libs\u001b[39;00m\u001b[38;5;21;01m.\u001b[39;00m\u001b[38;5;21;01mpandas_datetime\u001b[39;00m  \u001b[38;5;66;03m# noqa: F401 # isort: skip # type: ignore[reportUnusedImport]\u001b[39;00m\n\u001b[0;32m---> 18\u001b[0m \u001b[38;5;28;01mfrom\u001b[39;00m \u001b[38;5;21;01mpandas\u001b[39;00m\u001b[38;5;21;01m.\u001b[39;00m\u001b[38;5;21;01m_libs\u001b[39;00m\u001b[38;5;21;01m.\u001b[39;00m\u001b[38;5;21;01minterval\u001b[39;00m \u001b[38;5;28;01mimport\u001b[39;00m Interval\n\u001b[1;32m     19\u001b[0m \u001b[38;5;28;01mfrom\u001b[39;00m \u001b[38;5;21;01mpandas\u001b[39;00m\u001b[38;5;21;01m.\u001b[39;00m\u001b[38;5;21;01m_libs\u001b[39;00m\u001b[38;5;21;01m.\u001b[39;00m\u001b[38;5;21;01mtslibs\u001b[39;00m \u001b[38;5;28;01mimport\u001b[39;00m (\n\u001b[1;32m     20\u001b[0m     NaT,\n\u001b[1;32m     21\u001b[0m     NaTType,\n\u001b[0;32m   (...)\u001b[0m\n\u001b[1;32m     26\u001b[0m     iNaT,\n\u001b[1;32m     27\u001b[0m )\n",
      "File \u001b[0;32minterval.pyx:1\u001b[0m, in \u001b[0;36minit pandas._libs.interval\u001b[0;34m()\u001b[0m\n",
      "File \u001b[0;32mhashtable.pyx:1\u001b[0m, in \u001b[0;36minit pandas._libs.hashtable\u001b[0;34m()\u001b[0m\n",
      "File \u001b[0;32mmissing.pyx:1\u001b[0m, in \u001b[0;36minit pandas._libs.missing\u001b[0;34m()\u001b[0m\n",
      "File \u001b[0;32m/opt/anaconda3/envs/py11/lib/python3.11/site-packages/pandas/_libs/tslibs/__init__.py:40\u001b[0m\n\u001b[1;32m      1\u001b[0m __all__ \u001b[38;5;241m=\u001b[39m [\n\u001b[1;32m      2\u001b[0m     \u001b[38;5;124m\"\u001b[39m\u001b[38;5;124mdtypes\u001b[39m\u001b[38;5;124m\"\u001b[39m,\n\u001b[1;32m      3\u001b[0m     \u001b[38;5;124m\"\u001b[39m\u001b[38;5;124mlocalize_pydatetime\u001b[39m\u001b[38;5;124m\"\u001b[39m,\n\u001b[0;32m   (...)\u001b[0m\n\u001b[1;32m     36\u001b[0m     \u001b[38;5;124m\"\u001b[39m\u001b[38;5;124mis_supported_dtype\u001b[39m\u001b[38;5;124m\"\u001b[39m,\n\u001b[1;32m     37\u001b[0m ]\n\u001b[1;32m     39\u001b[0m \u001b[38;5;28;01mfrom\u001b[39;00m \u001b[38;5;21;01mpandas\u001b[39;00m\u001b[38;5;21;01m.\u001b[39;00m\u001b[38;5;21;01m_libs\u001b[39;00m\u001b[38;5;21;01m.\u001b[39;00m\u001b[38;5;21;01mtslibs\u001b[39;00m \u001b[38;5;28;01mimport\u001b[39;00m dtypes  \u001b[38;5;66;03m# pylint: disable=import-self\u001b[39;00m\n\u001b[0;32m---> 40\u001b[0m \u001b[38;5;28;01mfrom\u001b[39;00m \u001b[38;5;21;01mpandas\u001b[39;00m\u001b[38;5;21;01m.\u001b[39;00m\u001b[38;5;21;01m_libs\u001b[39;00m\u001b[38;5;21;01m.\u001b[39;00m\u001b[38;5;21;01mtslibs\u001b[39;00m\u001b[38;5;21;01m.\u001b[39;00m\u001b[38;5;21;01mconversion\u001b[39;00m \u001b[38;5;28;01mimport\u001b[39;00m localize_pydatetime\n\u001b[1;32m     41\u001b[0m \u001b[38;5;28;01mfrom\u001b[39;00m \u001b[38;5;21;01mpandas\u001b[39;00m\u001b[38;5;21;01m.\u001b[39;00m\u001b[38;5;21;01m_libs\u001b[39;00m\u001b[38;5;21;01m.\u001b[39;00m\u001b[38;5;21;01mtslibs\u001b[39;00m\u001b[38;5;21;01m.\u001b[39;00m\u001b[38;5;21;01mdtypes\u001b[39;00m \u001b[38;5;28;01mimport\u001b[39;00m (\n\u001b[1;32m     42\u001b[0m     Resolution,\n\u001b[1;32m     43\u001b[0m     periods_per_day,\n\u001b[1;32m     44\u001b[0m     periods_per_second,\n\u001b[1;32m     45\u001b[0m )\n\u001b[1;32m     46\u001b[0m \u001b[38;5;28;01mfrom\u001b[39;00m \u001b[38;5;21;01mpandas\u001b[39;00m\u001b[38;5;21;01m.\u001b[39;00m\u001b[38;5;21;01m_libs\u001b[39;00m\u001b[38;5;21;01m.\u001b[39;00m\u001b[38;5;21;01mtslibs\u001b[39;00m\u001b[38;5;21;01m.\u001b[39;00m\u001b[38;5;21;01mnattype\u001b[39;00m \u001b[38;5;28;01mimport\u001b[39;00m (\n\u001b[1;32m     47\u001b[0m     NaT,\n\u001b[1;32m     48\u001b[0m     NaTType,\n\u001b[1;32m     49\u001b[0m     iNaT,\n\u001b[1;32m     50\u001b[0m     nat_strings,\n\u001b[1;32m     51\u001b[0m )\n",
      "File \u001b[0;32mconversion.pyx:1\u001b[0m, in \u001b[0;36minit pandas._libs.tslibs.conversion\u001b[0;34m()\u001b[0m\n",
      "File \u001b[0;32moffsets.pyx:1\u001b[0m, in \u001b[0;36minit pandas._libs.tslibs.offsets\u001b[0;34m()\u001b[0m\n",
      "File \u001b[0;32mtimestamps.pyx:1\u001b[0m, in \u001b[0;36minit pandas._libs.tslibs.timestamps\u001b[0;34m()\u001b[0m\n",
      "File \u001b[0;32mtimedeltas.pyx:86\u001b[0m, in \u001b[0;36minit pandas._libs.tslibs.timedeltas\u001b[0;34m()\u001b[0m\n",
      "File \u001b[0;32mfields.pyx:685\u001b[0m, in \u001b[0;36minit pandas._libs.tslibs.fields\u001b[0;34m()\u001b[0m\n",
      "\u001b[0;31mSystemError\u001b[0m: <class 'property'> returned a result with an exception set"
     ]
    }
   ],
   "source": [
    "import pandas as pd\n",
    "import numpy as np\n",
    "import matplotlib.pyplot as plt\n",
    "\n",
    "df = pd.DataFrame({\n",
    "    \"År\": np.array([14,18,21,24,27,30,33,36,39,42,45,48,51,54,57,59,62,65,68,70,73,76])+1800,\n",
    "    \"Embetsmenn\": np.array([46,54,42,46,51,48,34,38,46,41,43,43,26,38,35,28,33,32,27,25,32,30]),\n",
    "    \"Advokater og sakførere\": np.array([2,6,0,3,3,5,3,3,4,4,1,5,3,8,6,10,5,7,5,6,7,6]),\n",
    "    \"Handels- og håndverksborgere\": np.array([12,12,32,20,18,17,15,12,13,9,12,11,18,11,13,15,12,11,13,12,11,10]),\n",
    "    \"Gårdbrukere++\": np.array([36,23,32,31,25,25,47,45,35,43,41,37,41,41,38,40,43,47,50,62,50,52]),\n",
    "    \"Andre\": np.array([4,5,3,0,3,5,1,2,2,3,3,4,12,2,8,7,7,3,5,6,11,13])\n",
    "    })\n",
    "df.set_index('År', inplace=True)\n",
    "\n",
    "# Plotting the stacked area chart\n",
    "df.plot(kind='line', stacked=False) # 'line', 'bar', 'barh', 'kde', 'density', 'area', 'hist', 'box', 'pie', 'scatter', 'hexbin'\n",
    "\n",
    "# Adding labels and title\n",
    "plt.title('Den sosiale sammensetningen av Stortinget 1814-76')\n",
    "plt.ylabel('Prosent')\n",
    "plt.xlabel('År')\n",
    "plt.ylim(0, 100)  # Ensuring the y-axis goes up to 100%\n",
    "plt.xlim(1814,1876)\n",
    "plt.legend()\n",
    "\n",
    "# Show the plot\n",
    "plt.show()\n",
    "print(df[\"Advokater og sakførere\"]+df[\"Andre\"]+df[\"Embetsmenn\"]+df[\"Handels- og håndverksborgere\"]+df[\"Gårdbrukere++\"])"
   ]
  },
  {
   "cell_type": "code",
   "execution_count": 39,
   "metadata": {},
   "outputs": [
    {
     "name": "stdout",
     "output_type": "stream",
     "text": [
      "5914.077618662257\n",
      "8892.946837851003\n",
      "8940.63829787234\n",
      "0.0005256895361842889\n",
      "4.583721195709879\n"
     ]
    }
   ],
   "source": [
    "import numpy as np\n",
    "gamma = 6.67*10**-11\n",
    "M = 6.3*10**14\n",
    "R = 4*10**3\n",
    "\n",
    "def g(r):\n",
    "    return gamma*M/r**2\n",
    "\n",
    "v = 3.4\n",
    "h = 0\n",
    "delta = 1e-2\n",
    "while v >= 0:\n",
    "    h += v*delta\n",
    "    v -= g(R+h) * delta\n",
    "\n",
    "print((gamma*M)/((gamma*M)/R+3.4)-R+R)\n",
    "print(h+R)\n",
    "print(gamma*M/4.7)\n",
    "print(g(gamma*M/4.7))\n",
    "print(np.sqrt(2*gamma*M/R))\n"
   ]
  },
  {
   "cell_type": "code",
   "execution_count": 50,
   "metadata": {},
   "outputs": [
    {
     "name": "stdout",
     "output_type": "stream",
     "text": [
      "tonto tonto\n",
      "gordo gordo\n",
      "bajo bajo\n",
      "debil debil\n",
      "hardtarbeidene hardtarbeidene\n",
      "interessant interessant\n",
      "lat lat\n",
      "feit feit\n",
      "alto alto\n",
      "slank slank\n",
      "lav lav\n",
      "ekstrovertido ekstrovertido\n",
      "kjedelig kjedelig\n",
      "inteligente smart\n",
      "inteligente inteligente\n",
      "innadvendt innadvendt\n",
      "viejo viejo\n",
      "fuerte fuerte\n",
      "moreno moreno\n",
      "utadvendt utadvendt\n",
      "høy høy\n",
      "guapo guapo\n",
      "dum dum\n",
      "sterk sterk\n",
      "stygg stygg\n",
      "svak svak\n",
      "gammel gammel\n",
      "mørkhåret mørkhåret\n",
      "joven joven\n",
      "rubio rubio\n",
      "vago vago\n",
      "blond blond\n",
      "ung ung\n",
      "introvertido introvertido\n",
      "delegado delegado\n",
      "interesante interisante\n",
      "trabajador trabajador\n",
      "feo feo\n",
      "aburrido aburrido\n",
      "bakker vakker\n"
     ]
    }
   ],
   "source": [
    "from numpy import random\n",
    "\n",
    "spansk_norsk = {\n",
    "    \"rubio\": \"blond\",\n",
    "    \"moreno\": \"mørkhåret\",\n",
    "    \"fuerte\": \"sterk\",\n",
    "    \"débil\": \"svak\",\n",
    "    \"gordo\": \"feit\",\n",
    "    \"delegado\": \"slank\",\n",
    "    \"alto\": \"høy\",\n",
    "    \"bajo\": \"lav\",\n",
    "    \"joven\": \"ung\",\n",
    "    \"viejo\": \"gammel\",\n",
    "    \"guapo\": \"vakker\",\n",
    "    \"feo\": \"stygg\",\n",
    "    \"ekstrovertido\": \"utadvendt\",\n",
    "    \"introvertido\": \"innadvendt\",\n",
    "    \"inteligente\": \"smart\",\n",
    "    \"tonto\": \"dum\",\n",
    "    \"interesante\": \"interessant\",\n",
    "    \"aburrido\": \"kjedelig\",\n",
    "    \"trabajador\": \"hardtarbeidene\",\n",
    "    \"vago\": \"lat\"\n",
    "}\n",
    "norsk_spansk = {v:k for k, v in spansk_norsk.items()}\n",
    "liste = list(spansk_norsk.keys()) + list(norsk_spansk.keys())\n",
    "random.shuffle(liste)\n",
    "\n",
    "for i in liste:\n",
    "    svar = input(i+\": \")\n",
    "    if i in spansk_norsk:\n",
    "        print(svar, spansk_norsk[i])\n",
    "    else: \n",
    "        print(svar, norsk_spansk[i])\n",
    "\n"
   ]
  },
  {
   "cell_type": "code",
   "execution_count": 43,
   "metadata": {},
   "outputs": [
    {
     "name": "stdout",
     "output_type": "stream",
     "text": [
      "-1.30E+13\n"
     ]
    }
   ],
   "source": [
    "m = 440725\n",
    "M = 5.972*10**24\n",
    "gamma = 6.67*10**-11\n",
    "r = 6371*10**3\n",
    "h = 408*10**3\n",
    "v = 7.66*10**3\n",
    "\n",
    "print(f\"{0.5*m*v**2-gamma*m*M/(r+h):.2E}\")"
   ]
  },
  {
   "cell_type": "code",
   "execution_count": 22,
   "metadata": {},
   "outputs": [
    {
     "name": "stdout",
     "output_type": "stream",
     "text": [
      "-4 -3\n",
      "4 2\n"
     ]
    }
   ],
   "source": [
    "from math import floor, sqrt\n",
    "a = -sqrt(2)\n",
    "b = -sqrt(2)\n",
    "\n",
    "print(floor(a)+floor(b), floor(a+b))\n",
    "print(floor(a)*floor(b), floor(a*b))"
   ]
  },
  {
   "cell_type": "code",
   "execution_count": 46,
   "metadata": {},
   "outputs": [
    {
     "name": "stdout",
     "output_type": "stream",
     "text": [
      "[[1 1 1 1 1 1 1 0]\n",
      " [1 0 1 0 0 1 1 1]\n",
      " [0 0 0 1 0 0 0 0]\n",
      " [1 0 1 1 1 0 1 1]\n",
      " [1 1 0 1 0 1 1 0]\n",
      " [1 1 0 1 0 0 0 1]\n",
      " [1 0 0 1 1 0 0 0]\n",
      " [0 0 1 0 1 0 0 1]]\n",
      "52\n",
      "52\n",
      "[[ 0  0  0  0  0  0  0  0]\n",
      " [ 0  0  0  0  0  0  0  0]\n",
      " [ 0  0  0  0  0  0  0  0]\n",
      " [ 0  0  0  0  0  0  0  0]\n",
      " [ 0  0  0  0  0  0  0  0]\n",
      " [ 0  0  0  0  0  0  0  0]\n",
      " [ 0  0  0  0 52  0  0  0]\n",
      " [ 0  0  0  0  0  0  0  0]]\n",
      "(6, 4)\n",
      "(array([6]), array([4]))\n",
      "\n",
      "38\n",
      "[[ 0  0  0  0  0  0  0  0]\n",
      " [ 0  0  0  0  0  0  0  0]\n",
      " [ 0  0  0  0  0  0  0  0]\n",
      " [ 0  0  0  0  0  0 30  0]\n",
      " [ 0  0  0  0  0  0  0  0]\n",
      " [ 0  0  0  0  0  0  0  0]\n",
      " [ 0  0  0  0  0  0  0  0]\n",
      " [ 0  0  0  0  0  0  0  0]]\n",
      "(4, 6)\n",
      "(array([3]), array([6]))\n",
      "\n",
      "52\n",
      "[[ 0  0  0  0  0  0  0  0]\n",
      " [ 0  0  0 11  0  0  0  0]\n",
      " [ 0  0  0  0  0  0  0  0]\n",
      " [ 0  0  0  0  0  0  0  0]\n",
      " [ 0  0  0  0  0  0  0  0]\n",
      " [ 0  0  0  0  0  0  0  0]\n",
      " [ 0  0  0  0  0  0  0  0]\n",
      " [ 0  0  0  0  0  0  0  0]]\n",
      "(6, 4)\n",
      "(array([1]), array([3]))\n",
      "\n",
      "38\n",
      "[[ 0  0  0  0  0  0  0  0]\n",
      " [ 0  0  0  0  0  0  0  0]\n",
      " [ 0  0  0  0  0  0  0  0]\n",
      " [ 0  0  0  0  0  0  0  0]\n",
      " [ 0 33  0  0  0  0  0  0]\n",
      " [ 0  0  0  0  0  0  0  0]\n",
      " [ 0  0  0  0  0  0  0  0]\n",
      " [ 0  0  0  0  0  0  0  0]]\n",
      "(4, 6)\n",
      "(array([4]), array([1]))\n",
      "\n"
     ]
    }
   ],
   "source": [
    "import numpy as np\n",
    "\n",
    "board = np.random.randint(0,2,(8,8))\n",
    "\n",
    "def getKey(board):\n",
    "    key = 0\n",
    "    for i in board.flatten() * np.arange(board.size):\n",
    "        key = key ^ i\n",
    "    return key\n",
    "\n",
    "def checkRot(board):\n",
    "    zero = np.zeros(board.shape, dtype=int)\n",
    "    zero[np.unravel_index(getKey(board), board.shape)] = 1\n",
    "    print(getKey(board))\n",
    "    print((zero.flatten()*np.arange(zero.size)).reshape(zero.shape))\n",
    "    print(np.unravel_index(getKey(board), board.shape))\n",
    "    print(np.where(zero==1))\n",
    "    print()\n",
    "    \n",
    "    board = np.rot90(board)\n",
    "    zero = np.rot90(zero)\n",
    "    print(getKey(board))\n",
    "    print((zero.flatten()*np.arange(zero.size)).reshape(zero.shape))\n",
    "    print(np.unravel_index(getKey(board), board.shape))\n",
    "    print(np.where(zero==1))\n",
    "    print()\n",
    "    \n",
    "    board = np.rot90(board)\n",
    "    zero = np.rot90(zero)\n",
    "    print(getKey(board))\n",
    "    print((zero.flatten()*np.arange(zero.size)).reshape(zero.shape))\n",
    "    print(np.unravel_index(getKey(board), board.shape))\n",
    "    print(np.where(zero==1))\n",
    "    print()\n",
    "\n",
    "    board = np.rot90(board)\n",
    "    zero = np.rot90(zero)\n",
    "    print(getKey(board))\n",
    "    print((zero.flatten()*np.arange(zero.size)).reshape(zero.shape))\n",
    "    print(np.unravel_index(getKey(board), board.shape))\n",
    "    print(np.where(zero==1))\n",
    "    print()\n",
    "    \n",
    "\n",
    "print(board)\n",
    "print(getKey(board))\n",
    "checkRot(board)"
   ]
  }
 ],
 "metadata": {
  "kernelspec": {
   "display_name": "py11",
   "language": "python",
   "name": "python3"
  },
  "language_info": {
   "codemirror_mode": {
    "name": "ipython",
    "version": 3
   },
   "file_extension": ".py",
   "mimetype": "text/x-python",
   "name": "python",
   "nbconvert_exporter": "python",
   "pygments_lexer": "ipython3",
   "version": "3.11.7"
  },
  "orig_nbformat": 4
 },
 "nbformat": 4,
 "nbformat_minor": 2
}
