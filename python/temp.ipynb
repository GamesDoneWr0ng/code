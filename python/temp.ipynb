{
 "cells": [
  {
   "cell_type": "code",
   "execution_count": 1,
   "metadata": {},
   "outputs": [
    {
     "name": "stdout",
     "output_type": "stream",
     "text": [
      "[['#' '#' '#']\n",
      " ['#' '#' '#']\n",
      " ['#' '#' '#']]\n",
      "Bad\n",
      "[['#' '#' '#']\n",
      " ['#' '#' 'x']\n",
      " ['#' '#' '#']]\n"
     ]
    },
    {
     "ename": "TypeError",
     "evalue": "'list' object cannot be interpreted as an integer",
     "output_type": "error",
     "traceback": [
      "\u001b[0;31m---------------------------------------------------------------------------\u001b[0m",
      "\u001b[0;31mTypeError\u001b[0m                                 Traceback (most recent call last)",
      "\u001b[1;32m/Users/askborgen/Desktop/code/python/temp.ipynb Cell 1\u001b[0m line \u001b[0;36m3\n\u001b[1;32m     <a href='vscode-notebook-cell:/Users/askborgen/Desktop/code/python/temp.ipynb#W4sZmlsZQ%3D%3D?line=28'>29</a>\u001b[0m \u001b[39m# check if game is over\u001b[39;00m\n\u001b[1;32m     <a href='vscode-notebook-cell:/Users/askborgen/Desktop/code/python/temp.ipynb#W4sZmlsZQ%3D%3D?line=29'>30</a>\u001b[0m \u001b[39mfor\u001b[39;00m i \u001b[39min\u001b[39;00m \u001b[39mrange\u001b[39m(\u001b[39m3\u001b[39m):\n\u001b[0;32m---> <a href='vscode-notebook-cell:/Users/askborgen/Desktop/code/python/temp.ipynb#W4sZmlsZQ%3D%3D?line=30'>31</a>\u001b[0m     \u001b[39mfor\u001b[39;00m k \u001b[39min\u001b[39;00m \u001b[39mrange\u001b[39;49m([\u001b[39m\"\u001b[39;49m\u001b[39mx\u001b[39;49m\u001b[39m\"\u001b[39;49m, \u001b[39m\"\u001b[39;49m\u001b[39mo\u001b[39;49m\u001b[39m\"\u001b[39;49m]):\n\u001b[1;32m     <a href='vscode-notebook-cell:/Users/askborgen/Desktop/code/python/temp.ipynb#W4sZmlsZQ%3D%3D?line=31'>32</a>\u001b[0m         \u001b[39mif\u001b[39;00m np\u001b[39m.\u001b[39many([np\u001b[39m.\u001b[39mall(tabell[i] \u001b[39m==\u001b[39m k),\n\u001b[1;32m     <a href='vscode-notebook-cell:/Users/askborgen/Desktop/code/python/temp.ipynb#W4sZmlsZQ%3D%3D?line=32'>33</a>\u001b[0m                    np\u001b[39m.\u001b[39mall(tabell[:,i] \u001b[39m==\u001b[39m k),\n\u001b[1;32m     <a href='vscode-notebook-cell:/Users/askborgen/Desktop/code/python/temp.ipynb#W4sZmlsZQ%3D%3D?line=33'>34</a>\u001b[0m                    np\u001b[39m.\u001b[39mall(tabell\u001b[39m.\u001b[39mdiagonal() \u001b[39m==\u001b[39m k),\n\u001b[1;32m     <a href='vscode-notebook-cell:/Users/askborgen/Desktop/code/python/temp.ipynb#W4sZmlsZQ%3D%3D?line=34'>35</a>\u001b[0m                    np\u001b[39m.\u001b[39mall(np\u001b[39m.\u001b[39mfliplr(tabell)\u001b[39m.\u001b[39mdiagonal() \u001b[39m==\u001b[39m k)]):\n\u001b[1;32m     <a href='vscode-notebook-cell:/Users/askborgen/Desktop/code/python/temp.ipynb#W4sZmlsZQ%3D%3D?line=35'>36</a>\u001b[0m             \u001b[39mprint\u001b[39m(k, \u001b[39m\"\u001b[39m\u001b[39mwon\u001b[39m\u001b[39m\"\u001b[39m)\n",
      "\u001b[0;31mTypeError\u001b[0m: 'list' object cannot be interpreted as an integer"
     ]
    }
   ],
   "source": [
    "import numpy as np\n",
    "\n",
    "tabell = np.array([[\"#\", \"#\", \"#\"],\n",
    "                   [\"#\", \"#\", \"#\"],\n",
    "                   [\"#\", \"#\", \"#\"]])\n",
    "\n",
    "print(tabell)\n",
    "\n",
    "ferdig = False\n",
    "while not ferdig:\n",
    "    try:\n",
    "        row = int(input(\"row: \"))\n",
    "        col = int(input(\"col: \"))\n",
    "        xo = input(\"x or o: \")\n",
    "\n",
    "        if row < 0 or row > 2 or col < 0 or col > 2:\n",
    "            print(\"Bad\")\n",
    "            continue\n",
    "        if xo != \"x\" and xo != \"o\":\n",
    "            print(\"Bad\")\n",
    "            continue\n",
    "    except:\n",
    "        print(\"Bad\")\n",
    "        continue\n",
    "\n",
    "    tabell[row][col] = xo\n",
    "    print(tabell)\n",
    "\n",
    "    # check if game is over\n",
    "    for i in range(3):\n",
    "        for k in [\"x\", \"o\"]:\n",
    "            if np.any([np.all(tabell[i] == k),\n",
    "                       np.all(tabell[:,i] == k),\n",
    "                       np.all(tabell.diagonal() == k),\n",
    "                       np.all(np.fliplr(tabell).diagonal() == k)]):\n",
    "                print(k, \"won\")\n",
    "                ferdig = True\n",
    "                break"
   ]
  },
  {
   "cell_type": "code",
   "execution_count": 26,
   "metadata": {},
   "outputs": [
    {
     "ename": "IndexError",
     "evalue": "list index out of range",
     "output_type": "error",
     "traceback": [
      "\u001b[0;31m---------------------------------------------------------------------------\u001b[0m",
      "\u001b[0;31mIndexError\u001b[0m                                Traceback (most recent call last)",
      "\u001b[1;32m/Users/askborgen/Desktop/code/python/temp.ipynb Cell 2\u001b[0m line \u001b[0;36m1\n\u001b[1;32m     <a href='vscode-notebook-cell:/Users/askborgen/Desktop/code/python/temp.ipynb#W1sZmlsZQ%3D%3D?line=9'>10</a>\u001b[0m         i \u001b[39m=\u001b[39m i\u001b[39m.\u001b[39msplit(\u001b[39m\"\u001b[39m\u001b[39m\\t\u001b[39;00m\u001b[39m\"\u001b[39m)\n\u001b[1;32m     <a href='vscode-notebook-cell:/Users/askborgen/Desktop/code/python/temp.ipynb#W1sZmlsZQ%3D%3D?line=10'>11</a>\u001b[0m         arr[idx][\u001b[39m0\u001b[39m] \u001b[39m=\u001b[39m \u001b[39mint\u001b[39m(i[\u001b[39m0\u001b[39m])\n\u001b[0;32m---> <a href='vscode-notebook-cell:/Users/askborgen/Desktop/code/python/temp.ipynb#W1sZmlsZQ%3D%3D?line=11'>12</a>\u001b[0m         arr[idx][\u001b[39m1\u001b[39m] \u001b[39m=\u001b[39m \u001b[39mint\u001b[39m(i[\u001b[39m1\u001b[39;49m])\n\u001b[1;32m     <a href='vscode-notebook-cell:/Users/askborgen/Desktop/code/python/temp.ipynb#W1sZmlsZQ%3D%3D?line=12'>13</a>\u001b[0m         \u001b[39m#print(i)\u001b[39;00m\n\u001b[1;32m     <a href='vscode-notebook-cell:/Users/askborgen/Desktop/code/python/temp.ipynb#W1sZmlsZQ%3D%3D?line=13'>14</a>\u001b[0m         \u001b[39m#i = i.split(\"\\t\")\u001b[39;00m\n\u001b[1;32m     <a href='vscode-notebook-cell:/Users/askborgen/Desktop/code/python/temp.ipynb#W1sZmlsZQ%3D%3D?line=14'>15</a>\u001b[0m         \u001b[39m#arr[i[0],0] = i[1]\u001b[39;00m\n\u001b[1;32m     <a href='vscode-notebook-cell:/Users/askborgen/Desktop/code/python/temp.ipynb#W1sZmlsZQ%3D%3D?line=16'>17</a>\u001b[0m \u001b[39mprint\u001b[39m(arr)\n",
      "\u001b[0;31mIndexError\u001b[0m: list index out of range"
     ]
    }
   ],
   "source": [
    "import numpy as np\n",
    "\n",
    "arr = np.zeros((50,2))\n",
    "#print(arr)\n",
    "\n",
    "with open(\"/Users/askborgen/Desktop/code/resources/rakett.txt\") as f:\n",
    "    rakett = f.read()\n",
    "    raket = rakett.split(\"\\n\")\n",
    "    for idx, i in enumerate(rakett):#.split(\"\\n\")):\n",
    "        i = i.split(\"\\t\")\n",
    "        arr[idx][0] = int(i[0])\n",
    "        arr[idx][1] = int(i[1])\n",
    "        #print(i)\n",
    "        #i = i.split(\"\\t\")\n",
    "        #arr[i[0],0] = i[1]\n",
    "\n",
    "print(arr)"
   ]
  }
 ],
 "metadata": {
  "kernelspec": {
   "display_name": "base",
   "language": "python",
   "name": "python3"
  },
  "language_info": {
   "codemirror_mode": {
    "name": "ipython",
    "version": 3
   },
   "file_extension": ".py",
   "mimetype": "text/x-python",
   "name": "python",
   "nbconvert_exporter": "python",
   "pygments_lexer": "ipython3",
   "version": "3.9.12"
  },
  "orig_nbformat": 4
 },
 "nbformat": 4,
 "nbformat_minor": 2
}
