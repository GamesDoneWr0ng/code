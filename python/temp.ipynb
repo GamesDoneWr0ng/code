{
 "cells": [
  {
   "cell_type": "code",
   "execution_count": 7,
   "metadata": {},
   "outputs": [
    {
     "name": "stdout",
     "output_type": "stream",
     "text": [
      "Integral: 14.99\n",
      "Volum: 1258.70\n"
     ]
    },
    {
     "data": {
      "image/png": "[encoded data removed]",
      "text/plain": [
       "<Figure size 640x480 with 1 Axes>"
      ]
     },
     "metadata": {},
     "output_type": "display_data"
    }
   ],
   "source": [
    "import numpy as np\n",
    "import pylab as plt\n",
    "\n",
    "def f(x):\n",
    "    return np.e ** x ** 2\n",
    "\n",
    "a = 1\n",
    "b = 2\n",
    "n = 5000\n",
    "dx = (b-a)/n\n",
    "x = np.linspace(a, b, n+1)\n",
    "\n",
    "# integral\n",
    "print(f\"Integral: {np.trapz(f(x), dx=dx):.2f}\")\n",
    "print(f\"Volum: {np.pi * np.trapz(f(x)**2, dx=dx):.2f}\")\n",
    "\n",
    "# plot\n",
    "plt.plot(x, f(x))\n",
    "plt.show()"
   ]
  },
  {
   "cell_type": "code",
   "execution_count": 4,
   "metadata": {},
   "outputs": [],
   "source": [
    "import time\n",
    "def timer(func, args, iters = 100):\n",
    "    times = []\n",
    "    for _ in range(iters):\n",
    "        start = time.time_ns()\n",
    "        func(args)\n",
    "        times.append(time.time_ns() - start)\n",
    "    return sum(times) / len(times)"
   ]
  },
  {
   "cell_type": "code",
   "execution_count": 1,
   "metadata": {},
   "outputs": [
    {
     "name": "stdout",
     "output_type": "stream",
     "text": [
      "Hi my name is Ask Borgen and i turn 18 years old this year.\n"
     ]
    }
   ],
   "source": [
    "class Person:\n",
    "    \"\"\"Person class with name and age\"\"\"\n",
    "    def __init__(self, firstName: str, lastName: str, birthYear: int) -> None:\n",
    "        self.firstName = firstName\n",
    "        self.lastName = lastName\n",
    "        self.birthYear = birthYear\n",
    "\n",
    "    def calculateAge(self):\n",
    "        return 2024 - self.birthYear\n",
    "\n",
    "    def info(self):\n",
    "        \"\"\"Displays info about the person.\"\"\"\n",
    "        return f\"Hi my name is {self.firstName} {self.lastName} and i turn {self.calculateAge()} years old this year.\"\n",
    "\n",
    "ask = Person(\"Ask\", \"Borgen\", 2006)\n",
    "print(ask.info())"
   ]
  },
  {
   "cell_type": "code",
   "execution_count": 2,
   "metadata": {},
   "outputs": [
    {
     "name": "stdout",
     "output_type": "stream",
     "text": [
      "Hi my name is Ask Borgen and i turn 18 years old this year and i'm in VG2.\n",
      "Hi my name is Bojan Batric and i turn 39 years old this year.\n",
      "I'm a contact teacher for VG2 and i teach ['Matte', 'IT2']\n"
     ]
    }
   ],
   "source": [
    "class Elev(Person):\n",
    "    def __init__(self, firstName: str, lastName: str, birthYear: int) -> None:\n",
    "        super().__init__(firstName, lastName, birthYear)\n",
    "        self.finnTrinn()\n",
    "\n",
    "    def finnTrinn(self):\n",
    "        match (self.calculateAge()):\n",
    "            case 17:\n",
    "                self.trinn = \"VG1\"\n",
    "            case 18:\n",
    "                self.trinn = \"VG2\"\n",
    "            case 19:\n",
    "                self.trinn = \"VG3\"\n",
    "            case _:\n",
    "                self.trinn = \"ukjent trinn\"\n",
    "            \n",
    "    def info(self):\n",
    "        return super().info()[:-1] + f\" and i'm in {self.trinn}.\"\n",
    "    \n",
    "class Teacher(Person):\n",
    "    def __init__(self, firstName: str, lastName: str, birthYear: int, contactTeacher = \"\", subjects = []) -> None:\n",
    "        super().__init__(firstName, lastName, birthYear)\n",
    "        self.contactTeacher = contactTeacher\n",
    "        self.subjects = subjects\n",
    "\n",
    "    def has_subject(self, subject):\n",
    "        return subject in self.subjects\n",
    "    \n",
    "    def info(self):\n",
    "        return super().info() + f\"\\nI'm a contact teacher for {self.contactTeacher} and i teach {self.subjects}.\"\n",
    "\n",
    "ask = Elev(\"Ask\", \"Borgen\", 2006)\n",
    "print(ask.info())\n",
    "\n",
    "bojan = Teacher(\"Bojan\", \"Batric\", 1985, \"VG2\", [\"Matte\", \"IT2\"])\n",
    "print(bojan.info())"
   ]
  },
  {
   "cell_type": "code",
   "execution_count": 2,
   "metadata": {},
   "outputs": [
    {
     "name": "stdout",
     "output_type": "stream",
     "text": [
      "WLÅJIRLYLY QYZ A WTYPPOQXBLY LYØIKYP\n",
      "XMAKJSMZMZ RZÆ B XUZQQPRYCMZ MZÅJLZQ\n",
      "YNBLKTNÆNÆ SÆØ C YVÆRRQSZDNÆ NÆAKMÆR\n",
      "ZOCMLUOØOØ TØÅ D ZWØSSRTÆEOØ OØBLNØS\n",
      "ÆPDNMVPÅPÅ UÅA E ÆXÅTTSUØFPÅ PÅCMOÅT\n",
      "ØQEONWQAQA VAB F ØYAUUTVÅGQA QADNPAU\n",
      "ÅRFPOXRBRB WBC G ÅZBVVUWAHRB RBEOQBV\n",
      "ASGQPYSCSC XCD H AÆCWWVXBISC SCFPRCW\n",
      "BTHRQZTDTD YDE I BØDXXWYCJTD TDGQSDX\n",
      "CUISRÆUEUE ZEF J CÅEYYXZDKUE UEHRTEY\n",
      "DVJTSØVFVF ÆFG K DAFZZYÆELVF VFISUFZ\n",
      "EWKUTÅWGWG ØGH L EBGÆÆZØFMWG WGJTVGÆ\n",
      "FXLVUAXHXH ÅHI M FCHØØÆÅGNXH XHKUWHØ\n",
      "GYMWVBYIYI AIJ N GDIÅÅØAHOYI YILVXIÅ\n",
      "HZNXWCZJZJ BJK O HEJAAÅBIPZJ ZJMWYJA\n",
      "IÆOYXDÆKÆK CKL P IFKBBACJQÆK ÆKNXZKB\n",
      "JØPZYEØLØL DLM Q JGLCCBDKRØL ØLOYÆLC\n",
      "KÅQÆZFÅMÅM EMN R KHMDDCELSÅM ÅMPZØMD\n",
      "LARØÆGANAN FNO S LINEEDFMTAN ANQÆÅNE\n",
      "MBSÅØHBOBO GOP T MJOFFEGNUBO BORØAOF\n",
      "NCTAÅICPCP HPQ U NKPGGFHOVCP CPSÅBPG\n",
      "ODUBAJDQDQ IQR V OLQHHGIPWDQ DQTACQH\n",
      "PEVCBKERER JRS W PMRIIHJQXER ERUBDRI\n",
      "QFWDCLFSFS KST X QNSJJIKRYFS FSVCESJ\n",
      "RGXEDMGTGT LTU Y ROTKKJLSZGT GTWDFTK\n",
      "SHYFENHUHU MUV Z SPULLKMTÆHU HUXEGUL\n",
      "TIZGFOIVIV NVW Æ TQVMMLNUØIV IVYFHVM\n",
      "UJÆHGPJWJW OWX Ø URWNNMOVÅJW JWZGIWN\n",
      "VKØIHQKXKX PXY Å VSXOONPWAKX KXÆHJXO\n"
     ]
    }
   ],
   "source": [
    "alfabet = \"ABCDEFGHIJKLMNOPQRSTUVWXYZÆØÅ\"\n",
    "cryptert = \"WLÅJIRLYLY QYZ A WTYPPOQXBLY LYØIKYP\"\n",
    "\n",
    "for i in range(29):\n",
    "    tekst = \"\"\n",
    "    for bokstav in cryptert:\n",
    "        if bokstav == \" \":\n",
    "            tekst += \" \"\n",
    "            continue\n",
    "        index = alfabet.index(bokstav)\n",
    "        index = (index + i) % 29\n",
    "        tekst += alfabet[index]\n",
    "    print(tekst)"
   ]
  },
  {
   "cell_type": "code",
   "execution_count": 9,
   "metadata": {},
   "outputs": [
    {
     "name": "stdout",
     "output_type": "stream",
     "text": [
      "GRATULRERE MED Å GJENNOMFØRE REBUSEN\n"
     ]
    }
   ],
   "source": [
    "alfabet = \"ABCDEFGHIJKLMNOPQRSTUVWXYZÆØÅ\"\n",
    "cryptert = \"WLÅJIRLYLY QYZ A WTYPPOQXBLY LYØIKYP\"\n",
    "tekst = \"\"\n",
    "for bokstav in cryptert:\n",
    "        if bokstav == \" \":\n",
    "            tekst += \" \"\n",
    "            continue\n",
    "        index = alfabet.index(bokstav)\n",
    "        index = 28 -index\n",
    "        tekst += alfabet[index]\n",
    "\n",
    "print(tekst)"
   ]
  },
  {
   "cell_type": "code",
   "execution_count": 8,
   "metadata": {},
   "outputs": [
    {
     "name": "stdout",
     "output_type": "stream",
     "text": [
      "ABCDEFGHIJKLMNOPQRSTUVWXYZÆØÅ\n",
      "ÅØÆZYXWVUTSRQPONMLKJIHGFEDCBA\n"
     ]
    }
   ],
   "source": [
    "print(alfabet)\n",
    "print(\"\".join(list(reversed(alfabet))))"
   ]
  }
 ],
 "metadata": {
  "kernelspec": {
   "display_name": "base",
   "language": "python",
   "name": "python3"
  },
  "language_info": {
   "codemirror_mode": {
    "name": "ipython",
    "version": 3
   },
   "file_extension": ".py",
   "mimetype": "text/x-python",
   "name": "python",
   "nbconvert_exporter": "python",
   "pygments_lexer": "ipython3",
   "version": "3.11.6"
  },
  "orig_nbformat": 4
 },
 "nbformat": 4,
 "nbformat_minor": 2
}
