{
 "cells": [
  {
   "cell_type": "code",
   "execution_count": 1,
   "metadata": {},
   "outputs": [],
   "source": [
    "from pynput.keyboard import Key, Controller\n",
    "import time\n",
    "import threading\n",
    "\n",
    "# Create a keyboard controller\n",
    "keyboard = Controller()\n",
    "\n",
    "# Wait for a moment before sending the key press\n",
    "time.sleep(2)\n",
    "\n",
    "# Press and hold the \"End\" key\n",
    "keyboard.press(Key.end)\n",
    "time.sleep(30)  # Adjust the duration as needed\n",
    "\n",
    "# Release the \"End\" key\n",
    "keyboard.release(Key.end)"
   ]
  }
 ],
 "metadata": {
  "kernelspec": {
   "display_name": "base",
   "language": "python",
   "name": "python3"
  },
  "language_info": {
   "codemirror_mode": {
    "name": "ipython",
    "version": 3
   },
   "file_extension": ".py",
   "mimetype": "text/x-python",
   "name": "python",
   "nbconvert_exporter": "python",
   "pygments_lexer": "ipython3",
   "version": "3.9.12"
  },
  "orig_nbformat": 4
 },
 "nbformat": 4,
 "nbformat_minor": 2
}
