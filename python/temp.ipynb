{
 "cells": [
  {
   "cell_type": "code",
   "execution_count": 6,
   "metadata": {},
   "outputs": [
    {
     "name": "stdout",
     "output_type": "stream",
     "text": [
      "gal...gen: 2469m\n",
      "Gli...ind: 2452m\n",
      "Ska...ind: 2405m\n",
      "Sty...øst: 2387m\n",
      "Ska...ind: 2373m\n"
     ]
    }
   ],
   "source": [
    "fjell = {\"galdhopiggen\": 2469,\n",
    "         \"Glittertind\": 2452,\n",
    "         \"Skagastølstind\": 2405,\n",
    "         \"Styggedalsrinden øst\": 2387,\n",
    "         \"Skarstind\": 2373}\n",
    "\n",
    "for i in fjell:\n",
    "    if len(i) > 6:\n",
    "        print(f\"{i[:3]}...{i[-3:]}: {fjell[i]}m\")\n",
    "    else:\n",
    "        print(f\"{i}: {fjell[i]}m\")"
   ]
  },
  {
   "cell_type": "code",
   "execution_count": 7,
   "metadata": {},
   "outputs": [
    {
     "name": "stdout",
     "output_type": "stream",
     "text": [
      "gal...gen: 2469m\n",
      "Gli...ind: 2452m\n",
      "Ska...ind: 2405m\n",
      "Sty...øst: 2387m\n",
      "Ska...ind: 2373m\n"
     ]
    },
    {
     "data": {
      "text/plain": [
       "[None, None, None, None, None]"
      ]
     },
     "execution_count": 7,
     "metadata": {},
     "output_type": "execute_result"
    }
   ],
   "source": [
    "[print(f\"{i[:3]}...{i[-3:]}: {fjell[i]}m\") if len(i) > 6 else print(f\"{i}: {fjell[i]}m\") for i in {\"galdhopiggen\": 2469,\"Glittertind\": 2452,\"Skagastølstind\": 2405,\"Styggedalsrinden øst\": 2387,\"Skarstind\": 2373}]"
   ]
  }
 ],
 "metadata": {
  "kernelspec": {
   "display_name": "base",
   "language": "python",
   "name": "python3"
  },
  "language_info": {
   "codemirror_mode": {
    "name": "ipython",
    "version": 3
   },
   "file_extension": ".py",
   "mimetype": "text/x-python",
   "name": "python",
   "nbconvert_exporter": "python",
   "pygments_lexer": "ipython3",
   "version": "3.9.12"
  },
  "orig_nbformat": 4
 },
 "nbformat": 4,
 "nbformat_minor": 2
}
