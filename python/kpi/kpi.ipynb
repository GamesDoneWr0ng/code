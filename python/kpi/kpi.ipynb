{
 "cells": [
  {
   "cell_type": "code",
   "execution_count": 11,
   "metadata": {},
   "outputs": [
    {
     "data": {
      "text/html": [
       "<div>\n",
       "<style scoped>\n",
       "    .dataframe tbody tr th:only-of-type {\n",
       "        vertical-align: middle;\n",
       "    }\n",
       "\n",
       "    .dataframe tbody tr th {\n",
       "        vertical-align: top;\n",
       "    }\n",
       "\n",
       "    .dataframe thead th {\n",
       "        text-align: right;\n",
       "    }\n",
       "</style>\n",
       "<table border=\"1\" class=\"dataframe\">\n",
       "  <thead>\n",
       "    <tr style=\"text-align: right;\">\n",
       "      <th></th>\n",
       "      <th>Årstall</th>\n",
       "      <th>Årsgj.snitt2</th>\n",
       "      <th>Jan</th>\n",
       "      <th>Feb</th>\n",
       "      <th>Mar</th>\n",
       "      <th>Apr</th>\n",
       "      <th>Mai</th>\n",
       "      <th>Jun</th>\n",
       "      <th>Jul</th>\n",
       "      <th>Aug</th>\n",
       "      <th>Sep</th>\n",
       "      <th>Okt</th>\n",
       "      <th>Nov</th>\n",
       "      <th>Des</th>\n",
       "    </tr>\n",
       "  </thead>\n",
       "  <tbody>\n",
       "    <tr>\n",
       "      <th>0</th>\n",
       "      <td>2024</td>\n",
       "      <td>NaN</td>\n",
       "      <td>132.0</td>\n",
       "      <td>132.3</td>\n",
       "      <td>NaN</td>\n",
       "      <td>NaN</td>\n",
       "      <td>NaN</td>\n",
       "      <td>NaN</td>\n",
       "      <td>NaN</td>\n",
       "      <td>NaN</td>\n",
       "      <td>NaN</td>\n",
       "      <td>NaN</td>\n",
       "      <td>NaN</td>\n",
       "      <td>NaN</td>\n",
       "    </tr>\n",
       "    <tr>\n",
       "      <th>1</th>\n",
       "      <td>2023</td>\n",
       "      <td>129.6</td>\n",
       "      <td>126.1</td>\n",
       "      <td>126.6</td>\n",
       "      <td>127.6</td>\n",
       "      <td>129.0</td>\n",
       "      <td>129.6</td>\n",
       "      <td>130.4</td>\n",
       "      <td>130.9</td>\n",
       "      <td>129.9</td>\n",
       "      <td>129.8</td>\n",
       "      <td>131.1</td>\n",
       "      <td>131.8</td>\n",
       "      <td>131.9</td>\n",
       "    </tr>\n",
       "    <tr>\n",
       "      <th>2</th>\n",
       "      <td>2022</td>\n",
       "      <td>122.8</td>\n",
       "      <td>117.8</td>\n",
       "      <td>119.1</td>\n",
       "      <td>119.8</td>\n",
       "      <td>121.2</td>\n",
       "      <td>121.5</td>\n",
       "      <td>122.6</td>\n",
       "      <td>124.2</td>\n",
       "      <td>123.9</td>\n",
       "      <td>125.6</td>\n",
       "      <td>126.0</td>\n",
       "      <td>125.8</td>\n",
       "      <td>125.9</td>\n",
       "    </tr>\n",
       "    <tr>\n",
       "      <th>3</th>\n",
       "      <td>2021</td>\n",
       "      <td>116.1</td>\n",
       "      <td>114.1</td>\n",
       "      <td>114.9</td>\n",
       "      <td>114.6</td>\n",
       "      <td>115.0</td>\n",
       "      <td>114.9</td>\n",
       "      <td>115.3</td>\n",
       "      <td>116.3</td>\n",
       "      <td>116.3</td>\n",
       "      <td>117.5</td>\n",
       "      <td>117.2</td>\n",
       "      <td>118.1</td>\n",
       "      <td>118.9</td>\n",
       "    </tr>\n",
       "    <tr>\n",
       "      <th>4</th>\n",
       "      <td>2020</td>\n",
       "      <td>112.2</td>\n",
       "      <td>111.3</td>\n",
       "      <td>111.2</td>\n",
       "      <td>111.2</td>\n",
       "      <td>111.7</td>\n",
       "      <td>111.9</td>\n",
       "      <td>112.1</td>\n",
       "      <td>112.9</td>\n",
       "      <td>112.5</td>\n",
       "      <td>112.9</td>\n",
       "      <td>113.2</td>\n",
       "      <td>112.4</td>\n",
       "      <td>112.9</td>\n",
       "    </tr>\n",
       "  </tbody>\n",
       "</table>\n",
       "</div>"
      ],
      "text/plain": [
       "   Årstall  Årsgj.snitt2    Jan    Feb    Mar    Apr    Mai    Jun    Jul  \\\n",
       "0     2024           NaN  132.0  132.3    NaN    NaN    NaN    NaN    NaN   \n",
       "1     2023         129.6  126.1  126.6  127.6  129.0  129.6  130.4  130.9   \n",
       "2     2022         122.8  117.8  119.1  119.8  121.2  121.5  122.6  124.2   \n",
       "3     2021         116.1  114.1  114.9  114.6  115.0  114.9  115.3  116.3   \n",
       "4     2020         112.2  111.3  111.2  111.2  111.7  111.9  112.1  112.9   \n",
       "\n",
       "     Aug    Sep    Okt    Nov    Des  \n",
       "0    NaN    NaN    NaN    NaN    NaN  \n",
       "1  129.9  129.8  131.1  131.8  131.9  \n",
       "2  123.9  125.6  126.0  125.8  125.9  \n",
       "3  116.3  117.5  117.2  118.1  118.9  \n",
       "4  112.5  112.9  113.2  112.4  112.9  "
      ]
     },
     "execution_count": 11,
     "metadata": {},
     "output_type": "execute_result"
    }
   ],
   "source": [
    "import pandas as pd # \"pandas is a fast, powerful, flexible and easy to use open source data analysis and manipulation tool\"\n",
    "import numpy as np # matte ting + arrays\n",
    "import matplotlib.pyplot as plt # grafer\n",
    "\n",
    "# leser inn csv filen med , som desimal ; som verdi seperator og . for blanke verdier\n",
    "f = pd.read_csv(\"/Users/askborgen/Desktop/code/python/kpi/tabell.csv\", encoding=\"utf-8-sig\", decimal=\",\", sep=\";\", na_values=\".\")\n",
    "f.head() # øverste 5 rader"
   ]
  },
  {
   "cell_type": "code",
   "execution_count": 12,
   "metadata": {},
   "outputs": [
    {
     "name": "stdout",
     "output_type": "stream",
     "text": [
      "[2.9 2.9 2.9 ... nan nan nan]\n"
     ]
    },
    {
     "data": {
      "text/plain": [
       "[<matplotlib.lines.Line2D at 0x12d49c710>]"
      ]
     },
     "execution_count": 12,
     "metadata": {},
     "output_type": "execute_result"
    },
    {
     "data": {
      "image/png": "[encoded data removed]",
      "text/plain": [
       "<Figure size 640x480 with 1 Axes>"
      ]
     },
     "metadata": {},
     "output_type": "display_data"
    }
   ],
   "source": [
    "# Alle veridene i en linje så [jan 1931, feb 1931, mar 1931, ..., des 2024]\n",
    "# [::-1,1:] er en 2 dimensjonal slice som returnerer radene baklengs via ::-1 og ekskluderer første to koloner via 2:\n",
    "flatvalues = f.to_numpy()[::-1,2:].flatten()\n",
    "print(flatvalues)\n",
    "plt.plot(np.linspace(f[\"Årstall\"][93], f[\"Årstall\"][0], flatvalues.size), flatvalues) # ploter"
   ]
  },
  {
   "cell_type": "code",
   "execution_count": 13,
   "metadata": {},
   "outputs": [
    {
     "name": "stdout",
     "output_type": "stream",
     "text": [
      "1934 Jan 2.7\n",
      "2024 Feb 132.3\n"
     ]
    }
   ],
   "source": [
    "npf = f.to_numpy()[:,2:] # eksluderer første 2 koloner og gjør om til en numpy array\n",
    "minIndex = np.unravel_index(np.nanargmin(npf), npf.shape) # finner index av minste verdi, np.argmin ville valgt nan så np.nanargmin velger minste verdi som ikke er nan, unravell_index gør indexen feks 123 om til index med to tall for rad og kolonne\n",
    "maxIndex = np.unravel_index(np.nanargmax(npf), npf.shape) # samme men max\n",
    "\n",
    "print(f[\"Årstall\"][minIndex[0]], f.columns[minIndex[1]+2], np.nanmin(npf)) # printer år og måned\n",
    "print(f[\"Årstall\"][maxIndex[0]], f.columns[maxIndex[1]+2], np.nanmax(npf)) # samme"
   ]
  },
  {
   "cell_type": "code",
   "execution_count": 14,
   "metadata": {},
   "outputs": [
    {
     "name": "stdout",
     "output_type": "stream",
     "text": [
      "dif: 8.1, år: 2022.0, jan: 117.8, des: 125.9\n"
     ]
    }
   ],
   "source": [
    "jan = f[\"Jan\"][1:] # alle verdier i kollonen januar untatt 2024\n",
    "des = f[\"Des\"][1:] # alle verdier i kollonen desember untatt 2024\n",
    "\n",
    "dif = des-jan # numpy arrays gjør elementvis subtrksjon i dette tilfelle, dette er på grunn av at de bruker SIMD\n",
    "index = np.argmax(dif)+1 # finner index til høyeste differance\n",
    "\n",
    "# printer diferanse rundet av, år, KPI for januar og KPI for desember\n",
    "print(f\"dif: {round(dif[index], 3)}, år: {f.values[:,0][index]}, jan: {jan[index]}, des: {des[index]}\")"
   ]
  },
  {
   "cell_type": "code",
   "execution_count": 15,
   "metadata": {},
   "outputs": [
    {
     "data": {
      "text/plain": [
       "[<matplotlib.lines.Line2D at 0x12d2eb8d0>]"
      ]
     },
     "execution_count": 15,
     "metadata": {},
     "output_type": "execute_result"
    },
    {
     "data": {
      "image/png": "[encoded data removed]",
      "text/plain": [
       "<Figure size 640x480 with 1 Axes>"
      ]
     },
     "metadata": {},
     "output_type": "display_data"
    }
   ],
   "source": [
    "plt.plot(f[\"Årstall\"], f[\"Årsgj.snitt2\"]) # plotter kolonen årstall med kolonen årsgjennomsnitt"
   ]
  },
  {
   "cell_type": "code",
   "execution_count": 16,
   "metadata": {},
   "outputs": [
    {
     "data": {
      "text/plain": [
       "<BarContainer object of 12 artists>"
      ]
     },
     "execution_count": 16,
     "metadata": {},
     "output_type": "execute_result"
    },
    {
     "data": {
      "image/png": "[encoded data removed]",
      "text/plain": [
       "<Figure size 640x480 with 1 Axes>"
      ]
     },
     "metadata": {},
     "output_type": "display_data"
    }
   ],
   "source": [
    "plt.ylim([131.5, 132.5]) # begrenser y aksen\n",
    "plt.title(\"KPI 2024\") # titel\n",
    "plt.bar(f.columns[2:], f.to_numpy()[0,2:]) # lager bar graf med navn på koloner og KPI for måndene i 2024\n"
   ]
  },
  {
   "cell_type": "code",
   "execution_count": 17,
   "metadata": {},
   "outputs": [
    {
     "name": "stdout",
     "output_type": "stream",
     "text": [
      "54.89403973509934\n"
     ]
    }
   ],
   "source": [
    "# tar in data fra bruker\n",
    "fraBeløp = float(input(\"Beløp: \"))\n",
    "fra = int(input(\"Fra år: \"))\n",
    "til = int(input(\"Til år: \"))\n",
    "\n",
    "# finner KPI, np.where vil gi en array med indekser for en kondisjon() f[\"Årstall\"]==fra\n",
    "fraKPI = f[\"Årsgj.snitt2\"][np.where(f[\"Årstall\"]==fra)[0][0]]\n",
    "tilKPI = f[\"Årsgj.snitt2\"][np.where(f[\"Årstall\"]==til)[0][0]]\n",
    "\n",
    "tilBeløp = fraBeløp * tilKPI / fraKPI # regner ut nye beløpet\n",
    "print(tilBeløp)"
   ]
  }
 ],
 "metadata": {
  "kernelspec": {
   "display_name": "py11",
   "language": "python",
   "name": "python3"
  },
  "language_info": {
   "codemirror_mode": {
    "name": "ipython",
    "version": 3
   },
   "file_extension": ".py",
   "mimetype": "text/x-python",
   "name": "python",
   "nbconvert_exporter": "python",
   "pygments_lexer": "ipython3",
   "version": "3.11.7"
  },
  "orig_nbformat": 4
 },
 "nbformat": 4,
 "nbformat_minor": 2
}
